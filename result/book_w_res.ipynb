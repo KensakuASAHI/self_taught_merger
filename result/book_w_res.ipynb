{
 "cells": [
  {
   "cell_type": "code",
   "execution_count": 1,
   "metadata": {},
   "outputs": [
    {
     "name": "stdout",
     "output_type": "stream",
     "text": [
      "Hello, World!\n"
     ]
    }
   ],
   "source": [
    "# Thank you so much for purchasing my book! Feel free to contact me at cory[at]theselftaughtprogrammer.io.\n",
    "# If you are enjoying it, please consider leaving a review on Amazon :). \n",
    "# https://www.amazon.com/dp/B01M01YDQA#customerReviews. Keep up the hard work!\n",
    "\n",
    "print(\"Hello, World!\")\n"
   ]
  },
  {
   "cell_type": "code",
   "execution_count": 2,
   "metadata": {},
   "outputs": [
    {
     "name": "stdout",
     "output_type": "stream",
     "text": [
      "Hello, World!\n"
     ]
    }
   ],
   "source": [
    "# Thank you so much for purchasing my book! Feel free to contact me at cory[at]theselftaughtprogrammer.io.\n",
    "\n",
    "print(\"Hello, World!\")\n"
   ]
  },
  {
   "cell_type": "code",
   "execution_count": 3,
   "metadata": {},
   "outputs": [
    {
     "name": "stdout",
     "output_type": "stream",
     "text": [
      "Hello, World!\n",
      "Hello, World!\n",
      "Hello, World!\n",
      "Hello, World!\n",
      "Hello, World!\n",
      "Hello, World!\n",
      "Hello, World!\n",
      "Hello, World!\n",
      "Hello, World!\n",
      "Hello, World!\n",
      "Hello, World!\n",
      "Hello, World!\n",
      "Hello, World!\n",
      "Hello, World!\n",
      "Hello, World!\n",
      "Hello, World!\n",
      "Hello, World!\n",
      "Hello, World!\n",
      "Hello, World!\n",
      "Hello, World!\n",
      "Hello, World!\n",
      "Hello, World!\n",
      "Hello, World!\n",
      "Hello, World!\n",
      "Hello, World!\n",
      "Hello, World!\n",
      "Hello, World!\n",
      "Hello, World!\n",
      "Hello, World!\n",
      "Hello, World!\n",
      "Hello, World!\n",
      "Hello, World!\n",
      "Hello, World!\n",
      "Hello, World!\n",
      "Hello, World!\n",
      "Hello, World!\n",
      "Hello, World!\n",
      "Hello, World!\n",
      "Hello, World!\n",
      "Hello, World!\n",
      "Hello, World!\n",
      "Hello, World!\n",
      "Hello, World!\n",
      "Hello, World!\n",
      "Hello, World!\n",
      "Hello, World!\n",
      "Hello, World!\n",
      "Hello, World!\n",
      "Hello, World!\n",
      "Hello, World!\n",
      "Hello, World!\n",
      "Hello, World!\n",
      "Hello, World!\n",
      "Hello, World!\n",
      "Hello, World!\n",
      "Hello, World!\n",
      "Hello, World!\n",
      "Hello, World!\n",
      "Hello, World!\n",
      "Hello, World!\n",
      "Hello, World!\n",
      "Hello, World!\n",
      "Hello, World!\n",
      "Hello, World!\n",
      "Hello, World!\n",
      "Hello, World!\n",
      "Hello, World!\n",
      "Hello, World!\n",
      "Hello, World!\n",
      "Hello, World!\n",
      "Hello, World!\n",
      "Hello, World!\n",
      "Hello, World!\n",
      "Hello, World!\n",
      "Hello, World!\n",
      "Hello, World!\n",
      "Hello, World!\n",
      "Hello, World!\n",
      "Hello, World!\n",
      "Hello, World!\n",
      "Hello, World!\n",
      "Hello, World!\n",
      "Hello, World!\n",
      "Hello, World!\n",
      "Hello, World!\n",
      "Hello, World!\n",
      "Hello, World!\n",
      "Hello, World!\n",
      "Hello, World!\n",
      "Hello, World!\n",
      "Hello, World!\n",
      "Hello, World!\n",
      "Hello, World!\n",
      "Hello, World!\n",
      "Hello, World!\n",
      "Hello, World!\n",
      "Hello, World!\n",
      "Hello, World!\n",
      "Hello, World!\n",
      "Hello, World!\n"
     ]
    }
   ],
   "source": [
    "\n",
    "for i in range(100):\n",
    "    print(\"Hello, World!\")\n"
   ]
  },
  {
   "cell_type": "code",
   "execution_count": 4,
   "metadata": {},
   "outputs": [
    {
     "name": "stdout",
     "output_type": "stream",
     "text": [
      "Hello, World!\n",
      "Hello, World!\n",
      "Hello, World!\n",
      "Hello, World!\n",
      "Hello, World!\n",
      "Hello, World!\n",
      "Hello, World!\n",
      "Hello, World!\n",
      "Hello, World!\n",
      "Hello, World!\n",
      "Hello, World!\n",
      "Hello, World!\n",
      "Hello, World!\n",
      "Hello, World!\n",
      "Hello, World!\n",
      "Hello, World!\n",
      "Hello, World!\n",
      "Hello, World!\n",
      "Hello, World!\n",
      "Hello, World!\n",
      "Hello, World!\n",
      "Hello, World!\n",
      "Hello, World!\n",
      "Hello, World!\n",
      "Hello, World!\n",
      "Hello, World!\n",
      "Hello, World!\n",
      "Hello, World!\n",
      "Hello, World!\n",
      "Hello, World!\n",
      "Hello, World!\n",
      "Hello, World!\n",
      "Hello, World!\n",
      "Hello, World!\n",
      "Hello, World!\n",
      "Hello, World!\n",
      "Hello, World!\n",
      "Hello, World!\n",
      "Hello, World!\n",
      "Hello, World!\n",
      "Hello, World!\n",
      "Hello, World!\n",
      "Hello, World!\n",
      "Hello, World!\n",
      "Hello, World!\n",
      "Hello, World!\n",
      "Hello, World!\n",
      "Hello, World!\n",
      "Hello, World!\n",
      "Hello, World!\n",
      "Hello, World!\n",
      "Hello, World!\n",
      "Hello, World!\n",
      "Hello, World!\n",
      "Hello, World!\n",
      "Hello, World!\n",
      "Hello, World!\n",
      "Hello, World!\n",
      "Hello, World!\n",
      "Hello, World!\n",
      "Hello, World!\n",
      "Hello, World!\n",
      "Hello, World!\n",
      "Hello, World!\n",
      "Hello, World!\n",
      "Hello, World!\n",
      "Hello, World!\n",
      "Hello, World!\n",
      "Hello, World!\n",
      "Hello, World!\n",
      "Hello, World!\n",
      "Hello, World!\n",
      "Hello, World!\n",
      "Hello, World!\n",
      "Hello, World!\n",
      "Hello, World!\n",
      "Hello, World!\n",
      "Hello, World!\n",
      "Hello, World!\n",
      "Hello, World!\n",
      "Hello, World!\n",
      "Hello, World!\n",
      "Hello, World!\n",
      "Hello, World!\n",
      "Hello, World!\n",
      "Hello, World!\n",
      "Hello, World!\n",
      "Hello, World!\n",
      "Hello, World!\n",
      "Hello, World!\n",
      "Hello, World!\n",
      "Hello, World!\n",
      "Hello, World!\n",
      "Hello, World!\n",
      "Hello, World!\n",
      "Hello, World!\n",
      "Hello, World!\n",
      "Hello, World!\n",
      "Hello, World!\n",
      "Hello, World!\n"
     ]
    }
   ],
   "source": [
    "\n",
    "for i in range(100):\n",
    "    print(\"Hello, World!\")\n"
   ]
  },
  {
   "cell_type": "code",
   "execution_count": 5,
   "metadata": {},
   "outputs": [
    {
     "name": "stdout",
     "output_type": "stream",
     "text": [
      "Hello, World!\n",
      "Hello, World!\n",
      "Hello, World!\n",
      "Hello, World!\n",
      "Hello, World!\n",
      "Hello, World!\n",
      "Hello, World!\n",
      "Hello, World!\n",
      "Hello, World!\n",
      "Hello, World!\n",
      "Hello, World!\n",
      "Hello, World!\n",
      "Hello, World!\n",
      "Hello, World!\n",
      "Hello, World!\n",
      "Hello, World!\n",
      "Hello, World!\n",
      "Hello, World!\n",
      "Hello, World!\n",
      "Hello, World!\n",
      "Hello, World!\n",
      "Hello, World!\n",
      "Hello, World!\n",
      "Hello, World!\n",
      "Hello, World!\n",
      "Hello, World!\n",
      "Hello, World!\n",
      "Hello, World!\n",
      "Hello, World!\n",
      "Hello, World!\n",
      "Hello, World!\n",
      "Hello, World!\n",
      "Hello, World!\n",
      "Hello, World!\n",
      "Hello, World!\n",
      "Hello, World!\n",
      "Hello, World!\n",
      "Hello, World!\n",
      "Hello, World!\n",
      "Hello, World!\n",
      "Hello, World!\n",
      "Hello, World!\n",
      "Hello, World!\n",
      "Hello, World!\n",
      "Hello, World!\n",
      "Hello, World!\n",
      "Hello, World!\n",
      "Hello, World!\n",
      "Hello, World!\n",
      "Hello, World!\n",
      "Hello, World!\n",
      "Hello, World!\n",
      "Hello, World!\n",
      "Hello, World!\n",
      "Hello, World!\n",
      "Hello, World!\n",
      "Hello, World!\n",
      "Hello, World!\n",
      "Hello, World!\n",
      "Hello, World!\n",
      "Hello, World!\n",
      "Hello, World!\n",
      "Hello, World!\n",
      "Hello, World!\n",
      "Hello, World!\n",
      "Hello, World!\n",
      "Hello, World!\n",
      "Hello, World!\n",
      "Hello, World!\n",
      "Hello, World!\n",
      "Hello, World!\n",
      "Hello, World!\n",
      "Hello, World!\n",
      "Hello, World!\n",
      "Hello, World!\n",
      "Hello, World!\n",
      "Hello, World!\n",
      "Hello, World!\n",
      "Hello, World!\n",
      "Hello, World!\n",
      "Hello, World!\n",
      "Hello, World!\n",
      "Hello, World!\n",
      "Hello, World!\n",
      "Hello, World!\n",
      "Hello, World!\n",
      "Hello, World!\n",
      "Hello, World!\n",
      "Hello, World!\n",
      "Hello, World!\n",
      "Hello, World!\n",
      "Hello, World!\n",
      "Hello, World!\n",
      "Hello, World!\n",
      "Hello, World!\n",
      "Hello, World!\n",
      "Hello, World!\n",
      "Hello, World!\n",
      "Hello, World!\n",
      "Hello, World!\n"
     ]
    }
   ],
   "source": [
    "\n",
    "# https://goo.gl/rKQedq\n",
    "\n",
    "\n",
    "for i in range(100):\n",
    "    print(\"Hello, World!\")\n"
   ]
  },
  {
   "cell_type": "code",
   "execution_count": 6,
   "metadata": {},
   "outputs": [
    {
     "name": "stdout",
     "output_type": "stream",
     "text": [
      "Hello, World!\n"
     ]
    }
   ],
   "source": [
    "\n",
    "# This is a comment\n",
    "print(\"Hello, World!\")\n"
   ]
  },
  {
   "cell_type": "code",
   "execution_count": 7,
   "metadata": {},
   "outputs": [
    {
     "name": "stdout",
     "output_type": "stream",
     "text": [
      "Hello, World!\n"
     ]
    }
   ],
   "source": [
    "\n",
    "# A comment\n",
    "print(\"Hello, World!\")\n"
   ]
  },
  {
   "cell_type": "code",
   "execution_count": 8,
   "metadata": {},
   "outputs": [
    {
     "name": "stdout",
     "output_type": "stream",
     "text": [
      "Hello, World!\n"
     ]
    }
   ],
   "source": [
    "\n",
    "# print Hello, World!\n",
    "print(\"Hello, World!\")\n"
   ]
  },
  {
   "cell_type": "code",
   "execution_count": 9,
   "metadata": {},
   "outputs": [],
   "source": [
    "import math\n",
    "\n",
    "# length of a diagonal\n",
    "l = 4\n",
    "w = 10 \n",
    "d = math.sqrt(l**2 + w**2) "
   ]
  },
  {
   "cell_type": "code",
   "execution_count": 10,
   "metadata": {},
   "outputs": [
    {
     "name": "stdout",
     "output_type": "stream",
     "text": [
      "Python\n"
     ]
    }
   ],
   "source": [
    "\n",
    "print(\"Python\")\n"
   ]
  },
  {
   "cell_type": "code",
   "execution_count": 11,
   "metadata": {},
   "outputs": [
    {
     "name": "stdout",
     "output_type": "stream",
     "text": [
      "Hola!\n"
     ]
    }
   ],
   "source": [
    "\n",
    "print(\"Hola!\")\n"
   ]
  },
  {
   "cell_type": "code",
   "execution_count": 12,
   "metadata": {},
   "outputs": [],
   "source": [
    "\n",
    "# line1\n",
    "# line2\n",
    "# line3\n"
   ]
  },
  {
   "cell_type": "code",
   "execution_count": 13,
   "metadata": {},
   "outputs": [
    {
     "name": "stdout",
     "output_type": "stream",
     "text": [
      "This is a really really\n",
      "      really really long line of\n",
      "      code.\n"
     ]
    }
   ],
   "source": [
    "\n",
    "print(\"\"\"This is a really really\n",
    "      really really long line of\n",
    "      code.\"\"\")\n"
   ]
  },
  {
   "cell_type": "code",
   "execution_count": 14,
   "metadata": {},
   "outputs": [
    {
     "name": "stdout",
     "output_type": "stream",
     "text": [
      "This is a really really\n",
      " really long line of code.\n"
     ]
    }
   ],
   "source": [
    "\n",
    "print\\\n",
    "(\"\"\"This is a really really\n",
    " really long line of code.\"\"\")\n"
   ]
  },
  {
   "cell_type": "code",
   "execution_count": 15,
   "metadata": {},
   "outputs": [
    {
     "name": "stdout",
     "output_type": "stream",
     "text": [
      "Hello, World!\n",
      "Hello, World!\n",
      "Hello, World!\n",
      "Hello, World!\n",
      "Hello, World!\n",
      "Hello, World!\n",
      "Hello, World!\n",
      "Hello, World!\n",
      "Hello, World!\n",
      "Hello, World!\n",
      "Hello, World!\n",
      "Hello, World!\n",
      "Hello, World!\n",
      "Hello, World!\n",
      "Hello, World!\n",
      "Hello, World!\n",
      "Hello, World!\n",
      "Hello, World!\n",
      "Hello, World!\n",
      "Hello, World!\n",
      "Hello, World!\n",
      "Hello, World!\n",
      "Hello, World!\n",
      "Hello, World!\n",
      "Hello, World!\n",
      "Hello, World!\n",
      "Hello, World!\n",
      "Hello, World!\n",
      "Hello, World!\n",
      "Hello, World!\n",
      "Hello, World!\n",
      "Hello, World!\n",
      "Hello, World!\n",
      "Hello, World!\n",
      "Hello, World!\n",
      "Hello, World!\n",
      "Hello, World!\n",
      "Hello, World!\n",
      "Hello, World!\n",
      "Hello, World!\n",
      "Hello, World!\n",
      "Hello, World!\n",
      "Hello, World!\n",
      "Hello, World!\n",
      "Hello, World!\n",
      "Hello, World!\n",
      "Hello, World!\n",
      "Hello, World!\n",
      "Hello, World!\n",
      "Hello, World!\n",
      "Hello, World!\n",
      "Hello, World!\n",
      "Hello, World!\n",
      "Hello, World!\n",
      "Hello, World!\n",
      "Hello, World!\n",
      "Hello, World!\n",
      "Hello, World!\n",
      "Hello, World!\n",
      "Hello, World!\n",
      "Hello, World!\n",
      "Hello, World!\n",
      "Hello, World!\n",
      "Hello, World!\n",
      "Hello, World!\n",
      "Hello, World!\n",
      "Hello, World!\n",
      "Hello, World!\n",
      "Hello, World!\n",
      "Hello, World!\n",
      "Hello, World!\n",
      "Hello, World!\n",
      "Hello, World!\n",
      "Hello, World!\n",
      "Hello, World!\n",
      "Hello, World!\n",
      "Hello, World!\n",
      "Hello, World!\n",
      "Hello, World!\n",
      "Hello, World!\n",
      "Hello, World!\n",
      "Hello, World!\n",
      "Hello, World!\n",
      "Hello, World!\n",
      "Hello, World!\n",
      "Hello, World!\n",
      "Hello, World!\n",
      "Hello, World!\n",
      "Hello, World!\n",
      "Hello, World!\n",
      "Hello, World!\n",
      "Hello, World!\n",
      "Hello, World!\n",
      "Hello, World!\n",
      "Hello, World!\n",
      "Hello, World!\n",
      "Hello, World!\n",
      "Hello, World!\n",
      "Hello, World!\n",
      "Hello, World!\n"
     ]
    }
   ],
   "source": [
    "\n",
    "# https://goo.gl/rKQedq\n",
    "\n",
    "\n",
    "for i in range(100):\n",
    "    print(\"Hello, World!\")\n"
   ]
  },
  {
   "cell_type": "code",
   "execution_count": 16,
   "metadata": {},
   "outputs": [
    {
     "ename": "SyntaxError",
     "evalue": "invalid syntax (<ipython-input-16-41d91e85d5ad>, line 2)",
     "output_type": "error",
     "traceback": [
      "\u001b[1;36m  File \u001b[1;32m\"<ipython-input-16-41d91e85d5ad>\"\u001b[1;36m, line \u001b[1;32m2\u001b[0m\n\u001b[1;33m    for (i = 0; i < 100; i++) {\u001b[0m\n\u001b[1;37m           ^\u001b[0m\n\u001b[1;31mSyntaxError\u001b[0m\u001b[1;31m:\u001b[0m invalid syntax\n"
     ]
    }
   ],
   "source": [
    "\n",
    "for (i = 0; i < 100; i++) {\n",
    "    console.log(\"Hello, World!\");\n",
    "}\n"
   ]
  },
  {
   "cell_type": "code",
   "execution_count": 17,
   "metadata": {},
   "outputs": [
    {
     "data": {
      "text/plain": [
       "'Hello, World!'"
      ]
     },
     "execution_count": 17,
     "metadata": {},
     "output_type": "execute_result"
    }
   ],
   "source": [
    "\n",
    "\"Hello, World!\"\n"
   ]
  },
  {
   "cell_type": "code",
   "execution_count": 18,
   "metadata": {},
   "outputs": [
    {
     "data": {
      "text/plain": [
       "'Hello, World!'"
      ]
     },
     "execution_count": 18,
     "metadata": {},
     "output_type": "execute_result"
    }
   ],
   "source": [
    "\n",
    "\"Hello, World!\"\n"
   ]
  },
  {
   "cell_type": "code",
   "execution_count": 19,
   "metadata": {},
   "outputs": [
    {
     "data": {
      "text/plain": [
       "4.4"
      ]
     },
     "execution_count": 19,
     "metadata": {},
     "output_type": "execute_result"
    }
   ],
   "source": [
    "\n",
    "2.2 + 2.2\n"
   ]
  },
  {
   "cell_type": "code",
   "execution_count": 20,
   "metadata": {},
   "outputs": [
    {
     "data": {
      "text/plain": [
       "True"
      ]
     },
     "execution_count": 20,
     "metadata": {},
     "output_type": "execute_result"
    }
   ],
   "source": [
    "\n",
    "True\n"
   ]
  },
  {
   "cell_type": "code",
   "execution_count": 21,
   "metadata": {},
   "outputs": [
    {
     "data": {
      "text/plain": [
       "False"
      ]
     },
     "execution_count": 21,
     "metadata": {},
     "output_type": "execute_result"
    }
   ],
   "source": [
    "\n",
    "False\n"
   ]
  },
  {
   "cell_type": "code",
   "execution_count": 22,
   "metadata": {},
   "outputs": [],
   "source": [
    "\n",
    "None\n"
   ]
  },
  {
   "cell_type": "code",
   "execution_count": 23,
   "metadata": {},
   "outputs": [
    {
     "data": {
      "text/plain": [
       "4"
      ]
     },
     "execution_count": 23,
     "metadata": {},
     "output_type": "execute_result"
    }
   ],
   "source": [
    "\n",
    "2 + 2\n"
   ]
  },
  {
   "cell_type": "code",
   "execution_count": 24,
   "metadata": {},
   "outputs": [
    {
     "data": {
      "text/plain": [
       "0"
      ]
     },
     "execution_count": 24,
     "metadata": {},
     "output_type": "execute_result"
    }
   ],
   "source": [
    "\n",
    "2 - 2\n"
   ]
  },
  {
   "cell_type": "code",
   "execution_count": 25,
   "metadata": {},
   "outputs": [
    {
     "data": {
      "text/plain": [
       "2.0"
      ]
     },
     "execution_count": 25,
     "metadata": {},
     "output_type": "execute_result"
    }
   ],
   "source": [
    "\n",
    "4 / 2\n"
   ]
  },
  {
   "cell_type": "code",
   "execution_count": 26,
   "metadata": {},
   "outputs": [
    {
     "data": {
      "text/plain": [
       "4"
      ]
     },
     "execution_count": 26,
     "metadata": {},
     "output_type": "execute_result"
    }
   ],
   "source": [
    "\n",
    "2 * 2\n"
   ]
  },
  {
   "cell_type": "code",
   "execution_count": 27,
   "metadata": {},
   "outputs": [
    {
     "ename": "SyntaxError",
     "evalue": "invalid syntax (<ipython-input-27-5782e7119fef>, line 4)",
     "output_type": "error",
     "traceback": [
      "\u001b[1;36m  File \u001b[1;32m\"<ipython-input-27-5782e7119fef>\"\u001b[1;36m, line \u001b[1;32m4\u001b[0m\n\u001b[1;33m    int a;\u001b[0m\n\u001b[1;37m        ^\u001b[0m\n\u001b[1;31mSyntaxError\u001b[0m\u001b[1;31m:\u001b[0m invalid syntax\n"
     ]
    }
   ],
   "source": [
    "# Do not run.\n",
    "\n",
    "\n",
    "int a;\n",
    "a = 144;\n"
   ]
  },
  {
   "cell_type": "code",
   "execution_count": 37,
   "metadata": {},
   "outputs": [
    {
     "data": {
      "text/plain": [
       "100"
      ]
     },
     "execution_count": 37,
     "metadata": {},
     "output_type": "execute_result"
    }
   ],
   "source": [
    "\n",
    "b = 100\n",
    "b\n"
   ]
  },
  {
   "cell_type": "code",
   "execution_count": 38,
   "metadata": {},
   "outputs": [
    {
     "data": {
      "text/plain": [
       "200"
      ]
     },
     "execution_count": 38,
     "metadata": {},
     "output_type": "execute_result"
    }
   ],
   "source": [
    "\n",
    "x = 100\n",
    "x\n",
    "\n",
    "\n",
    "x = 200\n",
    "x\n"
   ]
  },
  {
   "cell_type": "code",
   "execution_count": 39,
   "metadata": {},
   "outputs": [
    {
     "data": {
      "text/plain": [
       "0"
      ]
     },
     "execution_count": 39,
     "metadata": {},
     "output_type": "execute_result"
    }
   ],
   "source": [
    "\n",
    "x = 10\n",
    "y = 10\n",
    "z = x + y\n",
    "z\n",
    "a = x - y\n",
    "a\n"
   ]
  },
  {
   "cell_type": "code",
   "execution_count": 40,
   "metadata": {},
   "outputs": [
    {
     "data": {
      "text/plain": [
       "11"
      ]
     },
     "execution_count": 40,
     "metadata": {},
     "output_type": "execute_result"
    }
   ],
   "source": [
    "\n",
    "x = 10\n",
    "x = x + 1\n",
    "x\n"
   ]
  },
  {
   "cell_type": "code",
   "execution_count": 41,
   "metadata": {},
   "outputs": [
    {
     "data": {
      "text/plain": [
       "9"
      ]
     },
     "execution_count": 41,
     "metadata": {},
     "output_type": "execute_result"
    }
   ],
   "source": [
    "\n",
    "x = 10\n",
    "x = x - 1\n",
    "x\n"
   ]
  },
  {
   "cell_type": "code",
   "execution_count": 42,
   "metadata": {},
   "outputs": [
    {
     "data": {
      "text/plain": [
       "11"
      ]
     },
     "execution_count": 42,
     "metadata": {},
     "output_type": "execute_result"
    }
   ],
   "source": [
    "\n",
    "x = 10\n",
    "x += 1\n",
    "x\n"
   ]
  },
  {
   "cell_type": "code",
   "execution_count": 43,
   "metadata": {},
   "outputs": [
    {
     "data": {
      "text/plain": [
       "9"
      ]
     },
     "execution_count": 43,
     "metadata": {},
     "output_type": "execute_result"
    }
   ],
   "source": [
    "\n",
    "x = 10\n",
    "x -= 1\n",
    "x\n"
   ]
  },
  {
   "cell_type": "code",
   "execution_count": 44,
   "metadata": {},
   "outputs": [],
   "source": [
    "\n",
    "hi = \"Hello, World!\"\n"
   ]
  },
  {
   "cell_type": "code",
   "execution_count": 45,
   "metadata": {},
   "outputs": [],
   "source": [
    "\n",
    "my_float = 2.2\n"
   ]
  },
  {
   "cell_type": "code",
   "execution_count": 46,
   "metadata": {},
   "outputs": [],
   "source": [
    "\n",
    "my_boolean = True\n"
   ]
  },
  {
   "cell_type": "code",
   "execution_count": 47,
   "metadata": {},
   "outputs": [
    {
     "name": "stdout",
     "output_type": "stream",
     "text": [
      "Hello, World!\n"
     ]
    }
   ],
   "source": [
    "\n",
    "print(\"Hello, World!\")\n"
   ]
  },
  {
   "cell_type": "code",
   "execution_count": 48,
   "metadata": {},
   "outputs": [
    {
     "ename": "SyntaxError",
     "evalue": "invalid character in identifier (<ipython-input-48-448fb2c17c5f>, line 3)",
     "output_type": "error",
     "traceback": [
      "\u001b[1;36m  File \u001b[1;32m\"<ipython-input-48-448fb2c17c5f>\"\u001b[1;36m, line \u001b[1;32m3\u001b[0m\n\u001b[1;33m    my_string = “Hello World.\u001b[0m\n\u001b[1;37m                     ^\u001b[0m\n\u001b[1;31mSyntaxError\u001b[0m\u001b[1;31m:\u001b[0m invalid character in identifier\n"
     ]
    }
   ],
   "source": [
    "# This code has an error.\n",
    "\n",
    "my_string = “Hello World.\n"
   ]
  },
  {
   "cell_type": "code",
   "execution_count": 49,
   "metadata": {},
   "outputs": [
    {
     "ename": "ZeroDivisionError",
     "evalue": "division by zero",
     "output_type": "error",
     "traceback": [
      "\u001b[1;31m---------------------------------------------------------------------------\u001b[0m",
      "\u001b[1;31mZeroDivisionError\u001b[0m                         Traceback (most recent call last)",
      "\u001b[1;32m<ipython-input-49-160a31dc0d2f>\u001b[0m in \u001b[0;36m<module>\u001b[1;34m\u001b[0m\n\u001b[0;32m      1\u001b[0m \u001b[1;31m# This code has an error.\u001b[0m\u001b[1;33m\u001b[0m\u001b[1;33m\u001b[0m\u001b[1;33m\u001b[0m\u001b[0m\n\u001b[0;32m      2\u001b[0m \u001b[1;33m\u001b[0m\u001b[0m\n\u001b[1;32m----> 3\u001b[1;33m \u001b[1;36m10\u001b[0m \u001b[1;33m/\u001b[0m \u001b[1;36m0\u001b[0m\u001b[1;33m\u001b[0m\u001b[1;33m\u001b[0m\u001b[0m\n\u001b[0m",
      "\u001b[1;31mZeroDivisionError\u001b[0m: division by zero"
     ]
    }
   ],
   "source": [
    "# This code has an error.\n",
    "\n",
    "10 / 0\n"
   ]
  },
  {
   "cell_type": "code",
   "execution_count": 50,
   "metadata": {},
   "outputs": [
    {
     "ename": "IndentationError",
     "evalue": "unexpected indent (<ipython-input-50-32986aec49d9>, line 4)",
     "output_type": "error",
     "traceback": [
      "\u001b[1;36m  File \u001b[1;32m\"<ipython-input-50-32986aec49d9>\"\u001b[1;36m, line \u001b[1;32m4\u001b[0m\n\u001b[1;33m    x = 1\u001b[0m\n\u001b[1;37m    ^\u001b[0m\n\u001b[1;31mIndentationError\u001b[0m\u001b[1;31m:\u001b[0m unexpected indent\n"
     ]
    }
   ],
   "source": [
    "# This code has an error.\n",
    "\n",
    "y = 2\n",
    "         x = 1\n"
   ]
  },
  {
   "cell_type": "code",
   "execution_count": 51,
   "metadata": {},
   "outputs": [
    {
     "data": {
      "text/plain": [
       "2"
      ]
     },
     "execution_count": 51,
     "metadata": {},
     "output_type": "execute_result"
    }
   ],
   "source": [
    "\n",
    "13 // 5\n"
   ]
  },
  {
   "cell_type": "code",
   "execution_count": 52,
   "metadata": {},
   "outputs": [
    {
     "data": {
      "text/plain": [
       "3"
      ]
     },
     "execution_count": 52,
     "metadata": {},
     "output_type": "execute_result"
    }
   ],
   "source": [
    "\n",
    "13 % 5\n"
   ]
  },
  {
   "cell_type": "code",
   "execution_count": 53,
   "metadata": {},
   "outputs": [
    {
     "data": {
      "text/plain": [
       "0"
      ]
     },
     "execution_count": 53,
     "metadata": {},
     "output_type": "execute_result"
    }
   ],
   "source": [
    "\n",
    "# even\n",
    "12 % 2\n"
   ]
  },
  {
   "cell_type": "code",
   "execution_count": 54,
   "metadata": {},
   "outputs": [
    {
     "data": {
      "text/plain": [
       "1"
      ]
     },
     "execution_count": 54,
     "metadata": {},
     "output_type": "execute_result"
    }
   ],
   "source": [
    "\n",
    "# odd\n",
    "11 % 2\n"
   ]
  },
  {
   "cell_type": "code",
   "execution_count": 55,
   "metadata": {},
   "outputs": [
    {
     "data": {
      "text/plain": [
       "4"
      ]
     },
     "execution_count": 55,
     "metadata": {},
     "output_type": "execute_result"
    }
   ],
   "source": [
    "\n",
    "14 // 3\n"
   ]
  },
  {
   "cell_type": "code",
   "execution_count": 56,
   "metadata": {},
   "outputs": [
    {
     "data": {
      "text/plain": [
       "4.666666666666667"
      ]
     },
     "execution_count": 56,
     "metadata": {},
     "output_type": "execute_result"
    }
   ],
   "source": [
    "\n",
    "14 / 3\n"
   ]
  },
  {
   "cell_type": "code",
   "execution_count": 57,
   "metadata": {},
   "outputs": [
    {
     "data": {
      "text/plain": [
       "4"
      ]
     },
     "execution_count": 57,
     "metadata": {},
     "output_type": "execute_result"
    }
   ],
   "source": [
    "\n",
    "2 ** 2\n"
   ]
  },
  {
   "cell_type": "code",
   "execution_count": 58,
   "metadata": {},
   "outputs": [
    {
     "data": {
      "text/plain": [
       "6"
      ]
     },
     "execution_count": 58,
     "metadata": {},
     "output_type": "execute_result"
    }
   ],
   "source": [
    "\n",
    "2 + 2 * 2\n"
   ]
  },
  {
   "cell_type": "code",
   "execution_count": 59,
   "metadata": {},
   "outputs": [
    {
     "data": {
      "text/plain": [
       "8"
      ]
     },
     "execution_count": 59,
     "metadata": {},
     "output_type": "execute_result"
    }
   ],
   "source": [
    "\n",
    "(2 + 2) * 2\n"
   ]
  },
  {
   "cell_type": "code",
   "execution_count": 60,
   "metadata": {},
   "outputs": [
    {
     "data": {
      "text/plain": [
       "True"
      ]
     },
     "execution_count": 60,
     "metadata": {},
     "output_type": "execute_result"
    }
   ],
   "source": [
    "\n",
    "100 > 10\n"
   ]
  },
  {
   "cell_type": "code",
   "execution_count": 61,
   "metadata": {},
   "outputs": [
    {
     "data": {
      "text/plain": [
       "False"
      ]
     },
     "execution_count": 61,
     "metadata": {},
     "output_type": "execute_result"
    }
   ],
   "source": [
    "\n",
    "100 < 10\n"
   ]
  },
  {
   "cell_type": "code",
   "execution_count": 62,
   "metadata": {},
   "outputs": [
    {
     "data": {
      "text/plain": [
       "True"
      ]
     },
     "execution_count": 62,
     "metadata": {},
     "output_type": "execute_result"
    }
   ],
   "source": [
    "\n",
    "2 >= 2\n"
   ]
  },
  {
   "cell_type": "code",
   "execution_count": 63,
   "metadata": {},
   "outputs": [
    {
     "data": {
      "text/plain": [
       "True"
      ]
     },
     "execution_count": 63,
     "metadata": {},
     "output_type": "execute_result"
    }
   ],
   "source": [
    "\n",
    "2 <= 2\n"
   ]
  },
  {
   "cell_type": "code",
   "execution_count": 64,
   "metadata": {},
   "outputs": [
    {
     "data": {
      "text/plain": [
       "True"
      ]
     },
     "execution_count": 64,
     "metadata": {},
     "output_type": "execute_result"
    }
   ],
   "source": [
    "\n",
    "2 == 2\n"
   ]
  },
  {
   "cell_type": "code",
   "execution_count": 65,
   "metadata": {},
   "outputs": [
    {
     "data": {
      "text/plain": [
       "False"
      ]
     },
     "execution_count": 65,
     "metadata": {},
     "output_type": "execute_result"
    }
   ],
   "source": [
    "\n",
    "1 == 2\n"
   ]
  },
  {
   "cell_type": "code",
   "execution_count": 66,
   "metadata": {},
   "outputs": [
    {
     "data": {
      "text/plain": [
       "True"
      ]
     },
     "execution_count": 66,
     "metadata": {},
     "output_type": "execute_result"
    }
   ],
   "source": [
    "\n",
    "1 != 2\n"
   ]
  },
  {
   "cell_type": "code",
   "execution_count": 67,
   "metadata": {},
   "outputs": [
    {
     "data": {
      "text/plain": [
       "False"
      ]
     },
     "execution_count": 67,
     "metadata": {},
     "output_type": "execute_result"
    }
   ],
   "source": [
    "\n",
    "2 != 2\n"
   ]
  },
  {
   "cell_type": "code",
   "execution_count": 68,
   "metadata": {},
   "outputs": [
    {
     "data": {
      "text/plain": [
       "True"
      ]
     },
     "execution_count": 68,
     "metadata": {},
     "output_type": "execute_result"
    }
   ],
   "source": [
    "\n",
    "1 == 1 and 2 == 2\n"
   ]
  },
  {
   "cell_type": "code",
   "execution_count": 69,
   "metadata": {},
   "outputs": [
    {
     "data": {
      "text/plain": [
       "False"
      ]
     },
     "execution_count": 69,
     "metadata": {},
     "output_type": "execute_result"
    }
   ],
   "source": [
    "\n",
    "1 == 2 and 2 == 2\n"
   ]
  },
  {
   "cell_type": "code",
   "execution_count": 70,
   "metadata": {},
   "outputs": [
    {
     "data": {
      "text/plain": [
       "False"
      ]
     },
     "execution_count": 70,
     "metadata": {},
     "output_type": "execute_result"
    }
   ],
   "source": [
    "\n",
    "1 == 2 and 2 == 1\n"
   ]
  },
  {
   "cell_type": "code",
   "execution_count": 71,
   "metadata": {},
   "outputs": [
    {
     "data": {
      "text/plain": [
       "False"
      ]
     },
     "execution_count": 71,
     "metadata": {},
     "output_type": "execute_result"
    }
   ],
   "source": [
    "\n",
    "2 == 1 and 1 == 1\n"
   ]
  },
  {
   "cell_type": "code",
   "execution_count": 72,
   "metadata": {},
   "outputs": [
    {
     "data": {
      "text/plain": [
       "True"
      ]
     },
     "execution_count": 72,
     "metadata": {},
     "output_type": "execute_result"
    }
   ],
   "source": [
    "\n",
    "1 == 1 and 10 != 2 \\\n",
    "and 2 < 10\n"
   ]
  },
  {
   "cell_type": "code",
   "execution_count": 73,
   "metadata": {},
   "outputs": [
    {
     "data": {
      "text/plain": [
       "True"
      ]
     },
     "execution_count": 73,
     "metadata": {},
     "output_type": "execute_result"
    }
   ],
   "source": [
    "\n",
    "1==1 or 1==2\n"
   ]
  },
  {
   "cell_type": "code",
   "execution_count": 74,
   "metadata": {},
   "outputs": [
    {
     "data": {
      "text/plain": [
       "True"
      ]
     },
     "execution_count": 74,
     "metadata": {},
     "output_type": "execute_result"
    }
   ],
   "source": [
    "\n",
    "1==1 or 2==2\n"
   ]
  },
  {
   "cell_type": "code",
   "execution_count": 75,
   "metadata": {},
   "outputs": [
    {
     "data": {
      "text/plain": [
       "False"
      ]
     },
     "execution_count": 75,
     "metadata": {},
     "output_type": "execute_result"
    }
   ],
   "source": [
    "\n",
    "1==2 or 2==1\n"
   ]
  },
  {
   "cell_type": "code",
   "execution_count": 76,
   "metadata": {},
   "outputs": [
    {
     "data": {
      "text/plain": [
       "False"
      ]
     },
     "execution_count": 76,
     "metadata": {},
     "output_type": "execute_result"
    }
   ],
   "source": [
    "\n",
    "2==1 or 1==2\n"
   ]
  },
  {
   "cell_type": "code",
   "execution_count": 77,
   "metadata": {},
   "outputs": [
    {
     "data": {
      "text/plain": [
       "True"
      ]
     },
     "execution_count": 77,
     "metadata": {},
     "output_type": "execute_result"
    }
   ],
   "source": [
    "\n",
    "1==1 or 1==2 or 1==3\n"
   ]
  },
  {
   "cell_type": "code",
   "execution_count": 78,
   "metadata": {},
   "outputs": [
    {
     "data": {
      "text/plain": [
       "False"
      ]
     },
     "execution_count": 78,
     "metadata": {},
     "output_type": "execute_result"
    }
   ],
   "source": [
    "\n",
    "not 1 == 1\n"
   ]
  },
  {
   "cell_type": "code",
   "execution_count": 79,
   "metadata": {},
   "outputs": [
    {
     "data": {
      "text/plain": [
       "True"
      ]
     },
     "execution_count": 79,
     "metadata": {},
     "output_type": "execute_result"
    }
   ],
   "source": [
    "\n",
    "not 1 == 2\n"
   ]
  },
  {
   "cell_type": "code",
   "execution_count": 80,
   "metadata": {},
   "outputs": [
    {
     "ename": "SyntaxError",
     "evalue": "invalid syntax (<ipython-input-80-fa8120a5e14a>, line 2)",
     "output_type": "error",
     "traceback": [
      "\u001b[1;36m  File \u001b[1;32m\"<ipython-input-80-fa8120a5e14a>\"\u001b[1;36m, line \u001b[1;32m2\u001b[0m\n\u001b[1;33m    If (expression) Then\u001b[0m\n\u001b[1;37m                       ^\u001b[0m\n\u001b[1;31mSyntaxError\u001b[0m\u001b[1;31m:\u001b[0m invalid syntax\n"
     ]
    }
   ],
   "source": [
    "\n",
    "If (expression) Then\n",
    "           (code_area1)\n",
    "Else\n",
    "           (code_area2)\n"
   ]
  },
  {
   "cell_type": "code",
   "execution_count": 81,
   "metadata": {},
   "outputs": [
    {
     "name": "stdout",
     "output_type": "stream",
     "text": [
      "Hello, America!\n"
     ]
    }
   ],
   "source": [
    "# Thank you so much for purchasing my book! Feel free to contact me at cory[at]theselftaughtprogrammer.io.\n",
    "# If you are enjoying it, please consider leaving a review on Amazon :). https://www.amazon.com/dp/B01M01YDQA#customerReviews. Keep up the hard work!\n",
    "\n",
    "home = \"America\"\n",
    "if home == \"America\":\n",
    "    print(\"Hello, America!\")\n",
    "else:\n",
    "    print(\"Hello, World!\")\n"
   ]
  },
  {
   "cell_type": "code",
   "execution_count": 82,
   "metadata": {},
   "outputs": [
    {
     "name": "stdout",
     "output_type": "stream",
     "text": [
      "Hello, World!\n"
     ]
    }
   ],
   "source": [
    "# Thanks so much for reading my book. Feel free to contact me at cory[at]theselftaughtprogrammer.io.\n",
    "\n",
    "home = \"Canada\"\n",
    "if home == \"America\":\n",
    "    print(\"Hello, America!\")\n",
    "else:\n",
    "    print(\"Hello, World!\")\n"
   ]
  },
  {
   "cell_type": "code",
   "execution_count": 83,
   "metadata": {},
   "outputs": [
    {
     "name": "stdout",
     "output_type": "stream",
     "text": [
      "Hello, America!\n"
     ]
    }
   ],
   "source": [
    "\n",
    "# https://goo.gl/jOlzVl\n",
    "\n",
    "\n",
    "home = \"America\"\n",
    "if home == \"America\":\n",
    "    print(\"Hello, America!\")\n"
   ]
  },
  {
   "cell_type": "code",
   "execution_count": 84,
   "metadata": {},
   "outputs": [
    {
     "name": "stdout",
     "output_type": "stream",
     "text": [
      "The number is 2.\n",
      "The number is even.\n"
     ]
    }
   ],
   "source": [
    "\n",
    "# https://goo.gl/WBoKWA\n",
    "\n",
    "\n",
    "x = 2\n",
    "if x == 2:\n",
    "    print(\"The number is 2.\")\n",
    "if x % 2 == 0:\n",
    "    print(\"The number is even.\")\n",
    "if x % 2 != 0:\n",
    "    print(\"The number is odd.\")\n"
   ]
  },
  {
   "cell_type": "code",
   "execution_count": 85,
   "metadata": {},
   "outputs": [
    {
     "name": "stdout",
     "output_type": "stream",
     "text": [
      "21\n"
     ]
    }
   ],
   "source": [
    "\n",
    "# https://goo.gl/S6Z9rp\n",
    "\n",
    "\n",
    "x = 10\n",
    "y = 11\n",
    "\n",
    "\n",
    "if x == 10:\n",
    "    if y == 11:\n",
    "        print(x + y)\n"
   ]
  },
  {
   "cell_type": "code",
   "execution_count": 86,
   "metadata": {},
   "outputs": [
    {
     "name": "stdout",
     "output_type": "stream",
     "text": [
      "Hello, Thailand!\n"
     ]
    }
   ],
   "source": [
    "# Thanks so much for reading my book. Feel free to contact me at cory[at]theselftaughtprogrammer.io.\n",
    "\n",
    "home = \"Thailand\"\n",
    "if home == \"Japan\":\n",
    "    print(\"Hello, Japan!\")\n",
    "elif home == \"Thailand\":\n",
    "    print(\"Hello, Thailand!\")\n",
    "elif home == \"India\":\n",
    "    print(\"Hello, India!\")\n",
    "elif home == \"China\":\n",
    "    print(\"Hello, China!\")\n",
    "else:\n",
    "    print(\"Hello, World!\")\n"
   ]
  },
  {
   "cell_type": "code",
   "execution_count": 87,
   "metadata": {},
   "outputs": [
    {
     "name": "stdout",
     "output_type": "stream",
     "text": [
      "Hello, World!\n"
     ]
    }
   ],
   "source": [
    "# Thanks so much for reading my book. Feel free to contact me at cory[at]theselftaughtprogrammer.io.\n",
    "\n",
    "home = \"Mars\"\n",
    "if home == \"America\":\n",
    "    print(\"Hello, America!\")\n",
    "elif home == \"Canada\":\n",
    "    print(\"Hello, Canada!\")\n",
    "elif home == \"Thailand\":\n",
    "    print(\"Hello, Thailand!\")\n",
    "elif home == \"Mexico\":\n",
    "    print(\"Hello, Mexico!\")\n",
    "else:\n",
    "    print(\"Hello, World!\")\n"
   ]
  },
  {
   "cell_type": "code",
   "execution_count": 88,
   "metadata": {},
   "outputs": [
    {
     "name": "stdout",
     "output_type": "stream",
     "text": [
      "I don’t know!\n",
      "x is 100!\n",
      "x is even!\n"
     ]
    }
   ],
   "source": [
    "# Thanks so much for reading my book. Feel free to contact me at cory[at]theselftaughtprogrammer.io.\n",
    "\n",
    "x = 100\n",
    "if x == 10:\n",
    "    print(\"10!\")\n",
    "elif x == 20:\n",
    "    print(\"20!\")\n",
    "else:\n",
    "    print(\"I don’t know!\")\n",
    "\n",
    "\n",
    "if x == 100:\n",
    "    print(\"x is 100!\")\n",
    "\n",
    "\n",
    "if x % 2 == 0:\n",
    "    print(\"x is even!\")\n",
    "else:\n",
    "    print(\"x is odd!\")\n"
   ]
  },
  {
   "cell_type": "code",
   "execution_count": 89,
   "metadata": {},
   "outputs": [
    {
     "name": "stdout",
     "output_type": "stream",
     "text": [
      "Hello, World!\n"
     ]
    }
   ],
   "source": [
    "\n",
    "print(\"Hello, World!\")\n"
   ]
  },
  {
   "cell_type": "code",
   "execution_count": 90,
   "metadata": {},
   "outputs": [
    {
     "data": {
      "text/plain": [
       "4"
      ]
     },
     "execution_count": 90,
     "metadata": {},
     "output_type": "execute_result"
    }
   ],
   "source": [
    "\n",
    "2 + 2\n"
   ]
  },
  {
   "cell_type": "code",
   "execution_count": 91,
   "metadata": {},
   "outputs": [
    {
     "name": "stdout",
     "output_type": "stream",
     "text": [
      "Hello, World!\n",
      "Hello, World!\n",
      "Hello, World!\n",
      "Hello, World!\n",
      "Hello, World!\n",
      "Hello, World!\n",
      "Hello, World!\n",
      "Hello, World!\n",
      "Hello, World!\n",
      "Hello, World!\n",
      "Hello, World!\n",
      "Hello, World!\n",
      "Hello, World!\n",
      "Hello, World!\n",
      "Hello, World!\n",
      "Hello, World!\n",
      "Hello, World!\n",
      "Hello, World!\n",
      "Hello, World!\n",
      "Hello, World!\n",
      "Hello, World!\n",
      "Hello, World!\n",
      "Hello, World!\n",
      "Hello, World!\n",
      "Hello, World!\n",
      "Hello, World!\n",
      "Hello, World!\n",
      "Hello, World!\n",
      "Hello, World!\n",
      "Hello, World!\n",
      "Hello, World!\n",
      "Hello, World!\n",
      "Hello, World!\n",
      "Hello, World!\n",
      "Hello, World!\n",
      "Hello, World!\n",
      "Hello, World!\n",
      "Hello, World!\n",
      "Hello, World!\n",
      "Hello, World!\n",
      "Hello, World!\n",
      "Hello, World!\n",
      "Hello, World!\n",
      "Hello, World!\n",
      "Hello, World!\n",
      "Hello, World!\n",
      "Hello, World!\n",
      "Hello, World!\n",
      "Hello, World!\n",
      "Hello, World!\n",
      "Hello, World!\n",
      "Hello, World!\n",
      "Hello, World!\n",
      "Hello, World!\n",
      "Hello, World!\n",
      "Hello, World!\n",
      "Hello, World!\n",
      "Hello, World!\n",
      "Hello, World!\n",
      "Hello, World!\n",
      "Hello, World!\n",
      "Hello, World!\n",
      "Hello, World!\n",
      "Hello, World!\n",
      "Hello, World!\n",
      "Hello, World!\n",
      "Hello, World!\n",
      "Hello, World!\n",
      "Hello, World!\n",
      "Hello, World!\n",
      "Hello, World!\n",
      "Hello, World!\n",
      "Hello, World!\n",
      "Hello, World!\n",
      "Hello, World!\n",
      "Hello, World!\n",
      "Hello, World!\n",
      "Hello, World!\n",
      "Hello, World!\n",
      "Hello, World!\n",
      "Hello, World!\n",
      "Hello, World!\n",
      "Hello, World!\n",
      "Hello, World!\n",
      "Hello, World!\n",
      "Hello, World!\n",
      "Hello, World!\n",
      "Hello, World!\n",
      "Hello, World!\n",
      "Hello, World!\n",
      "Hello, World!\n",
      "Hello, World!\n",
      "Hello, World!\n",
      "Hello, World!\n",
      "Hello, World!\n",
      "Hello, World!\n",
      "Hello, World!\n",
      "Hello, World!\n",
      "Hello, World!\n",
      "Hello, World!\n"
     ]
    }
   ],
   "source": [
    "\n",
    "# https://goo.gl/rKQedq\n",
    "\n",
    "for i in range(100):\n",
    "    print(\"Hello, World!\")\n"
   ]
  },
  {
   "cell_type": "code",
   "execution_count": 92,
   "metadata": {},
   "outputs": [
    {
     "name": "stdout",
     "output_type": "stream",
     "text": [
      "I don’t know!\n",
      "x is 100!\n",
      "x is even!\n"
     ]
    }
   ],
   "source": [
    "# Thanks so much for reading my book. Feel free to contact me at cory[at]theselftaughtprogrammer.io.\n",
    "\n",
    "x = 100\n",
    "if x == 10:\n",
    "    print(\"10!\")\n",
    "elif x == 20:\n",
    "    print(\"20!\")\n",
    "else:\n",
    "    print(\"I don’t know!\")\n",
    "\n",
    "\n",
    "if x == 100:\n",
    "    print(\"x is 100!\")\n",
    "\n",
    "\n",
    "if x % 2 == 0:\n",
    "    print(\"x is even!\")\n",
    "else:\n",
    "    print(\"x is odd!\")\n"
   ]
  },
  {
   "cell_type": "code",
   "execution_count": 93,
   "metadata": {},
   "outputs": [
    {
     "name": "stdout",
     "output_type": "stream",
     "text": [
      "Michael\n",
      "Jordan\n"
     ]
    }
   ],
   "source": [
    "\n",
    "print(\"Michael\")\n",
    "\n",
    "\n",
    "\n",
    "\n",
    "\n",
    "\n",
    "print(\"Jordan\")\n"
   ]
  },
  {
   "cell_type": "code",
   "execution_count": 94,
   "metadata": {},
   "outputs": [
    {
     "ename": "SyntaxError",
     "evalue": "can't assign to function call (<ipython-input-94-fcc3e9c52c82>, line 2)",
     "output_type": "error",
     "traceback": [
      "\u001b[1;36m  File \u001b[1;32m\"<ipython-input-94-fcc3e9c52c82>\"\u001b[1;36m, line \u001b[1;32m2\u001b[0m\n\u001b[1;33m    f(x) = x * 2\u001b[0m\n\u001b[1;37m                ^\u001b[0m\n\u001b[1;31mSyntaxError\u001b[0m\u001b[1;31m:\u001b[0m can't assign to function call\n"
     ]
    }
   ],
   "source": [
    "# Do not run.\n",
    "f(x) = x * 2\n"
   ]
  },
  {
   "cell_type": "code",
   "execution_count": 95,
   "metadata": {},
   "outputs": [
    {
     "ename": "SyntaxError",
     "evalue": "invalid syntax (<ipython-input-95-f4cbdc74bb0c>, line 3)",
     "output_type": "error",
     "traceback": [
      "\u001b[1;36m  File \u001b[1;32m\"<ipython-input-95-f4cbdc74bb0c>\"\u001b[1;36m, line \u001b[1;32m3\u001b[0m\n\u001b[1;33m    def [function_name]([parameters]):\u001b[0m\n\u001b[1;37m        ^\u001b[0m\n\u001b[1;31mSyntaxError\u001b[0m\u001b[1;31m:\u001b[0m invalid syntax\n"
     ]
    }
   ],
   "source": [
    "# Do not run.\n",
    "\n",
    "def [function_name]([parameters]):\n",
    "    [function_definition]\n"
   ]
  },
  {
   "cell_type": "code",
   "execution_count": 96,
   "metadata": {},
   "outputs": [],
   "source": [
    "\n",
    "# https://goo.gl/O7wFg7\n",
    "\n",
    "\n",
    "def f(x):\n",
    "    return x * 2\n"
   ]
  },
  {
   "cell_type": "code",
   "execution_count": 97,
   "metadata": {},
   "outputs": [
    {
     "data": {
      "text/plain": [
       "4"
      ]
     },
     "execution_count": 97,
     "metadata": {},
     "output_type": "execute_result"
    }
   ],
   "source": [
    "# Continue from\n",
    "# last example\n",
    "\n",
    "f(2)\n"
   ]
  },
  {
   "cell_type": "code",
   "execution_count": 98,
   "metadata": {},
   "outputs": [
    {
     "name": "stdout",
     "output_type": "stream",
     "text": [
      "4\n"
     ]
    }
   ],
   "source": [
    "# Continue from\n",
    "# last example\n",
    "\n",
    "result = f(2)\n",
    "print(result)\n"
   ]
  },
  {
   "cell_type": "code",
   "execution_count": 99,
   "metadata": {},
   "outputs": [
    {
     "name": "stdout",
     "output_type": "stream",
     "text": [
      "z is 5\n"
     ]
    }
   ],
   "source": [
    "\n",
    "# http://tinyurl.com/grosm7v\n",
    "\n",
    "\n",
    "def f(x):\n",
    "    return x + 1\n",
    "\n",
    "\n",
    "z = f(4)\n",
    "\n",
    "\n",
    "if z == 5:\n",
    "    print(\"z is 5\")\n",
    "else:\n",
    "    print(\"z is not 5\")\n"
   ]
  },
  {
   "cell_type": "code",
   "execution_count": 100,
   "metadata": {},
   "outputs": [
    {
     "name": "stdout",
     "output_type": "stream",
     "text": [
      "2\n"
     ]
    }
   ],
   "source": [
    "\n",
    "# http://tinyurl.com/jtfntw8\n",
    "\n",
    "\n",
    "def f():\n",
    "    return 1 + 1\n",
    "\n",
    "\n",
    "result = f()\n",
    "print(result)\n"
   ]
  },
  {
   "cell_type": "code",
   "execution_count": 101,
   "metadata": {},
   "outputs": [
    {
     "name": "stdout",
     "output_type": "stream",
     "text": [
      "6\n"
     ]
    }
   ],
   "source": [
    "\n",
    "# https://goo.gl/HmZoC5\n",
    "\n",
    "\n",
    "def f(x, y, z):\n",
    "    return x + y + z\n",
    "\n",
    "\n",
    "result = f(1, 2, 3)\n",
    "print(result)\n"
   ]
  },
  {
   "cell_type": "code",
   "execution_count": 102,
   "metadata": {},
   "outputs": [
    {
     "name": "stdout",
     "output_type": "stream",
     "text": [
      "None\n"
     ]
    }
   ],
   "source": [
    "\n",
    "# http://tinyurl.com/jml4r9l\n",
    "\n",
    "\n",
    "def f():\n",
    "    z = 1 + 1\n",
    "\n",
    "\n",
    "result = f()\n",
    "print(result)\n"
   ]
  },
  {
   "cell_type": "code",
   "execution_count": 103,
   "metadata": {},
   "outputs": [
    {
     "data": {
      "text/plain": [
       "5"
      ]
     },
     "execution_count": 103,
     "metadata": {},
     "output_type": "execute_result"
    }
   ],
   "source": [
    "\n",
    "len(\"Monty\")\n"
   ]
  },
  {
   "cell_type": "code",
   "execution_count": 104,
   "metadata": {},
   "outputs": [
    {
     "data": {
      "text/plain": [
       "6"
      ]
     },
     "execution_count": 104,
     "metadata": {},
     "output_type": "execute_result"
    }
   ],
   "source": [
    "\n",
    "len(\"Python\")\n"
   ]
  },
  {
   "cell_type": "code",
   "execution_count": 105,
   "metadata": {},
   "outputs": [
    {
     "data": {
      "text/plain": [
       "'100'"
      ]
     },
     "execution_count": 105,
     "metadata": {},
     "output_type": "execute_result"
    }
   ],
   "source": [
    "\n",
    "str(100)\n"
   ]
  },
  {
   "cell_type": "code",
   "execution_count": 106,
   "metadata": {},
   "outputs": [
    {
     "data": {
      "text/plain": [
       "1"
      ]
     },
     "execution_count": 106,
     "metadata": {},
     "output_type": "execute_result"
    }
   ],
   "source": [
    "\n",
    "int(\"1\")\n"
   ]
  },
  {
   "cell_type": "code",
   "execution_count": 107,
   "metadata": {},
   "outputs": [
    {
     "data": {
      "text/plain": [
       "100.0"
      ]
     },
     "execution_count": 107,
     "metadata": {},
     "output_type": "execute_result"
    }
   ],
   "source": [
    "\n",
    "float(100)\n"
   ]
  },
  {
   "cell_type": "code",
   "execution_count": 108,
   "metadata": {},
   "outputs": [
    {
     "data": {
      "text/plain": [
       "99.0"
      ]
     },
     "execution_count": 108,
     "metadata": {},
     "output_type": "execute_result"
    }
   ],
   "source": [
    "\n",
    "int(\"110\")\n",
    "int(20.54)\n",
    "\n",
    "\n",
    "float(\"16.4\")\n",
    "float(99)\n"
   ]
  },
  {
   "cell_type": "code",
   "execution_count": 109,
   "metadata": {},
   "outputs": [
    {
     "ename": "ValueError",
     "evalue": "invalid literal for int() with base 10: 'Prince'",
     "output_type": "error",
     "traceback": [
      "\u001b[1;31m---------------------------------------------------------------------------\u001b[0m",
      "\u001b[1;31mValueError\u001b[0m                                Traceback (most recent call last)",
      "\u001b[1;32m<ipython-input-109-d40d8dc64fc4>\u001b[0m in \u001b[0;36m<module>\u001b[1;34m\u001b[0m\n\u001b[0;32m      1\u001b[0m \u001b[1;33m\u001b[0m\u001b[0m\n\u001b[1;32m----> 2\u001b[1;33m \u001b[0mint\u001b[0m\u001b[1;33m(\u001b[0m\u001b[1;34m\"Prince\"\u001b[0m\u001b[1;33m)\u001b[0m\u001b[1;33m\u001b[0m\u001b[1;33m\u001b[0m\u001b[0m\n\u001b[0m",
      "\u001b[1;31mValueError\u001b[0m: invalid literal for int() with base 10: 'Prince'"
     ]
    }
   ],
   "source": [
    "\n",
    "int(\"Prince\")\n"
   ]
  },
  {
   "cell_type": "code",
   "execution_count": null,
   "metadata": {},
   "outputs": [],
   "source": [
    "age = input(\"Enter your age:\")\n",
    "int_age = int(age)\n",
    "if int_age < 21:\n",
    "    print(\"You are young!\")\n",
    "else:\n",
    "    print(\"Wow, you are old!\")\n"
   ]
  },
  {
   "cell_type": "code",
   "execution_count": null,
   "metadata": {},
   "outputs": [],
   "source": [
    "\n",
    "# http://tinyurl.com/j4dryde\n",
    "\n",
    "\n",
    "def even_odd(x):\n",
    "    if x % 2 == 0:\n",
    "        print(\"even\")\n",
    "    else:\n",
    "        print(\"odd\")\n",
    "\n",
    "\n",
    "even_odd(2)\n",
    "even_odd(3)\n"
   ]
  },
  {
   "cell_type": "code",
   "execution_count": null,
   "metadata": {},
   "outputs": [],
   "source": [
    "# Thank you so much for purchasing my book! Feel free to contact me at cory[at]theselftaughtprogrammer.io.\n",
    "# If you are enjoying it, please consider leaving a review on Amazon :).\n",
    "# https://www.amazon.com/dp/B01M01YDQA#customerReviews. Keep up the hard work!\n",
    "\n",
    "n = input(\"type a number\")\n",
    "n = int(n)\n",
    "\n",
    "\n",
    "if n % 2 == 0:\n",
    "    print(\"n is even.\")\n",
    "else:\n",
    "    print(\"n is odd.\")\n",
    "\n",
    "\n",
    "n = input(\"type a number\")\n",
    "n = int(n)\n",
    "if n % 2 == 0:\n",
    "    print(\"n is even.\")\n",
    "else:\n",
    "    print(\"n is odd.\")\n",
    "\n",
    "\n",
    "n = input(\"type a number\")\n",
    "n = int(n)\n",
    "if n % 2 == 0:\n",
    "    print(\"n is even.\")\n",
    "else:\n",
    "    print(\"n is odd.\")\n"
   ]
  },
  {
   "cell_type": "code",
   "execution_count": null,
   "metadata": {},
   "outputs": [],
   "source": [
    "# Thanks so much for reading my book. Feel free to contact me at cory[at]theselftaughtprogrammer.io with any questions.\n",
    "\n",
    "\n",
    "\n",
    "def even_odd():\n",
    "    n = input(\"type a number\")\n",
    "    n = int(n)\n",
    "    if n % 2 == 0:\n",
    "        print(\"n is even.\")\n",
    "    else:\n",
    "        print(\"n is odd.\")\n",
    "\n",
    "\n",
    "even_odd()\n",
    "even_odd()\n",
    "even_odd()\n"
   ]
  },
  {
   "cell_type": "code",
   "execution_count": null,
   "metadata": {},
   "outputs": [],
   "source": [
    "\n",
    "# https://goo.gl/23tJyS\n",
    "\n",
    "\n",
    "def f(x=2):\n",
    "   return x**x\n",
    "\n",
    "\n",
    "print(f())\n",
    "print(f(4))\n",
    "\n",
    "\n"
   ]
  },
  {
   "cell_type": "code",
   "execution_count": null,
   "metadata": {},
   "outputs": [],
   "source": [
    "\n",
    "# http://tinyurl.com/zujbk2n\n",
    "\n",
    "\n",
    "def add_it(x, y=10):\n",
    "    return x + y\n",
    "\n",
    "\n",
    "result = add_it(2)\n",
    "print(result)\n"
   ]
  },
  {
   "cell_type": "code",
   "execution_count": null,
   "metadata": {},
   "outputs": [],
   "source": [
    "\n",
    "x = 1\n",
    "y = 2\n",
    "z = 3\n"
   ]
  },
  {
   "cell_type": "code",
   "execution_count": null,
   "metadata": {},
   "outputs": [],
   "source": [
    "x = 1\n",
    "y = 2\n",
    "z = 3\n",
    "\n",
    "\n",
    "def f():\n",
    "    print(x)\n",
    "    print(y)\n",
    "    print(z)\n",
    "\n",
    "\n",
    "f()\n"
   ]
  },
  {
   "cell_type": "code",
   "execution_count": null,
   "metadata": {},
   "outputs": [],
   "source": [
    "\n",
    "# http://tinyurl.com/jd98nsn\n",
    "\n",
    "\n",
    "def f():\n",
    "    x = 1\n",
    "    y = 2\n",
    "    z = 3\n",
    "\n",
    "\n",
    "print(x)\n",
    "print(y)\n",
    "print(z)\n"
   ]
  },
  {
   "cell_type": "code",
   "execution_count": null,
   "metadata": {},
   "outputs": [],
   "source": [
    "\n",
    "# http://tinyurl.com/h3fxg9v\n",
    "\n",
    "\n",
    "def f():\n",
    "    x = 1\n",
    "    y = 2\n",
    "    z = 3\n",
    "    print(x)\n",
    "    print(y)\n",
    "    print(z)\n",
    "\n",
    "\n",
    "f()\n"
   ]
  },
  {
   "cell_type": "code",
   "execution_count": null,
   "metadata": {},
   "outputs": [],
   "source": [
    "\n",
    "if x > 100:\n",
    "    print(\"x is > 100\")\n"
   ]
  },
  {
   "cell_type": "code",
   "execution_count": null,
   "metadata": {},
   "outputs": [],
   "source": [
    "x = 100\n",
    "\n",
    "\n",
    "def f():\n",
    "    global x\n",
    "    x += 1\n",
    "    print(x)\n",
    "\n",
    "\n",
    "f()\n"
   ]
  },
  {
   "cell_type": "code",
   "execution_count": null,
   "metadata": {},
   "outputs": [],
   "source": [
    "# Thank you so much for purchasing my book! Feel free to contact me at cory[at]theselftaughtprogrammer.io.\n",
    "# If you are enjoying it, please consider leaving a review on Amazon :). \n",
    "# https://www.amazon.com/dp/B01M01YDQA#customerReviews. Keep up the hard work!\n",
    "\n",
    "\n",
    "a = input(\"type a number:\")\n",
    "b = input(\"type another:\")\n",
    "a = int(a)\n",
    "b = int(b)\n",
    "print(a / b)\n"
   ]
  },
  {
   "cell_type": "code",
   "execution_count": null,
   "metadata": {},
   "outputs": [],
   "source": [
    "\n",
    "a = input(\"type a number\")\n",
    "b = input(\"type another:\")\n",
    "a = int(a)\n",
    "b = int(b)\n",
    "print(a / b)\n"
   ]
  },
  {
   "cell_type": "code",
   "execution_count": null,
   "metadata": {},
   "outputs": [],
   "source": [
    "\n",
    "# http://tinyurl.com/hfcg4kj\n",
    "\n",
    "\n",
    "a = input(\"type a number\")\n",
    "b = input(\"type another number\")\n",
    "a = int(a)\n",
    "b = int(b)\n",
    "try:\n",
    "    print(a / b)\n",
    "except ZeroDivisionError:\n",
    "    print(\"b cannot be zero.\")\n"
   ]
  },
  {
   "cell_type": "code",
   "execution_count": null,
   "metadata": {},
   "outputs": [],
   "source": [
    "# Thanks so much for reading my book. Feel free to contact me at cory[at]theselftaughtprogrammer.io with any questions.\n",
    "\n",
    "\n",
    "a = input(\"type a number:\")\n",
    "b = input(\"type another:\")\n",
    "a = int(a)\n",
    "b = int(b)\n",
    "try:\n",
    "    print(a / b)\n",
    "except ZeroDivisionError:\n",
    "    print(\"b cannot be zero.\")\n"
   ]
  },
  {
   "cell_type": "code",
   "execution_count": null,
   "metadata": {},
   "outputs": [],
   "source": [
    "# Thanks so much for reading my book. Feel free to contact me at cory[at]theselftaughtprogrammer.io.\n",
    "\n",
    "\n",
    "try:\n",
    "    a = input(\"type a number:\")\n",
    "    b = input(\"type another:\")\n",
    "    a = int(a)\n",
    "    b = int(b)\n",
    "    print(a / b)\n",
    "except(ZeroDivisionError, ValueError):\n",
    "    print(\"Invalid input.\")\n"
   ]
  },
  {
   "cell_type": "code",
   "execution_count": null,
   "metadata": {},
   "outputs": [],
   "source": [
    "\n",
    "try:\n",
    "    10 / 0\n",
    "    c = \"I will never get defined.\"\n",
    "except ZeroDivisionError:\n",
    "    print(c)\n"
   ]
  },
  {
   "cell_type": "code",
   "execution_count": null,
   "metadata": {},
   "outputs": [],
   "source": [
    "\n",
    "def add(x, y):\n",
    "    \"\"\"\n",
    "    Returns x + y.\n",
    "    :param x: int.\n",
    "    :param y: int.\n",
    "    :return: int sum of x and y.\n",
    "    \"\"\"\n",
    "    return x + y\n"
   ]
  },
  {
   "cell_type": "code",
   "execution_count": null,
   "metadata": {},
   "outputs": [],
   "source": [
    "\n",
    "x = 100\n",
    "print(x)\n"
   ]
  },
  {
   "cell_type": "code",
   "execution_count": null,
   "metadata": {},
   "outputs": [],
   "source": [
    "\n",
    "print(100)\n"
   ]
  },
  {
   "cell_type": "code",
   "execution_count": null,
   "metadata": {},
   "outputs": [],
   "source": [
    "\n",
    "\"Hello\".upper()\n"
   ]
  },
  {
   "cell_type": "code",
   "execution_count": null,
   "metadata": {},
   "outputs": [],
   "source": [
    "\n",
    "\"Hello\".replace(\"o\", \"@\")\n"
   ]
  },
  {
   "cell_type": "code",
   "execution_count": null,
   "metadata": {},
   "outputs": [],
   "source": [
    "\n",
    "fruit = list()\n",
    "fruit\n"
   ]
  },
  {
   "cell_type": "code",
   "execution_count": null,
   "metadata": {},
   "outputs": [],
   "source": [
    "\n",
    "fruit = []\n",
    "fruit\n"
   ]
  },
  {
   "cell_type": "code",
   "execution_count": null,
   "metadata": {},
   "outputs": [],
   "source": [
    "\n",
    "fruit = [\"Apple\", \"Orange\", \"Pear\"]\n",
    "fruit\n"
   ]
  },
  {
   "cell_type": "code",
   "execution_count": null,
   "metadata": {},
   "outputs": [],
   "source": [
    "\n",
    "fruit = [\"Apple\", \"Orange\", \"Pear\"]\n",
    "fruit.append(\"Banana\")\n",
    "fruit.append(\"Peach\")\n",
    "fruit\n"
   ]
  },
  {
   "cell_type": "code",
   "execution_count": null,
   "metadata": {},
   "outputs": [],
   "source": [
    "\n",
    "random = []\n",
    "random.append(True)\n",
    "random.append(100)\n",
    "random.append(1.1)\n",
    "random.append(\"Hello\")\n",
    "random\n"
   ]
  },
  {
   "cell_type": "code",
   "execution_count": null,
   "metadata": {},
   "outputs": [],
   "source": [
    "\n",
    "fruit = [\"Apple\", \"Orange\", \"Pear\"]\n"
   ]
  },
  {
   "cell_type": "code",
   "execution_count": null,
   "metadata": {},
   "outputs": [],
   "source": [
    "\n",
    "fruit = [\"Apple\", \"Orange\", \"Pear\"]\n",
    "fruit[0]\n",
    "fruit[1]\n",
    "fruit[2]\n"
   ]
  },
  {
   "cell_type": "code",
   "execution_count": null,
   "metadata": {},
   "outputs": [],
   "source": [
    "# Thank you so much for purchasing my book! Feel free to contact me at cory[at]theselftaughtprogrammer.io.\n",
    "# If you are enjoying it, please consider leaving a review on Amazon :). \n",
    "# https://www.amazon.com/dp/B01M01YDQA#customerReviews. Keep up the hard work!\n",
    "\n",
    "colors = [\"blue\",\"green\",\"yellow\"]\n",
    "colors[4]\n"
   ]
  },
  {
   "cell_type": "code",
   "execution_count": null,
   "metadata": {},
   "outputs": [],
   "source": [
    "\n",
    "colors = [\"blue\",\"green\",\"yellow\"]\n",
    "colors\n",
    "colors[2] = \"red\"\n",
    "colors\n"
   ]
  },
  {
   "cell_type": "code",
   "execution_count": null,
   "metadata": {},
   "outputs": [],
   "source": [
    "\n",
    "colors = [\"blue\",\"green\",\"yellow\"]\n",
    "colors\n",
    "item = colors.pop()\n",
    "item\n",
    "colors\n"
   ]
  },
  {
   "cell_type": "code",
   "execution_count": null,
   "metadata": {},
   "outputs": [],
   "source": [
    "# Thank you so much for purchasing my book! Feel free to contact me at cory[at]theselftaughtprogrammer.io.\n",
    "# If you are enjoying it, please consider leaving a review on Amazon :). \n",
    "# https://www.amazon.com/dp/B01M01YDQA#customerReviews. Keep up the hard work!\n",
    "\n",
    "colors1 = [\"blue\", \"green\", \"yellow\"]\n",
    "colors2 = [\"orange\", \"pink\", \"black\"]\n",
    "colors1 + colors2\n"
   ]
  },
  {
   "cell_type": "code",
   "execution_count": null,
   "metadata": {},
   "outputs": [],
   "source": [
    "\n",
    "colors = [\"blue\",\"green\",\"yellow\"]\n",
    "\"green\" in colors\n"
   ]
  },
  {
   "cell_type": "code",
   "execution_count": null,
   "metadata": {},
   "outputs": [],
   "source": [
    "\n",
    "colors = [\"blue\",\"green\",\"yellow\"]\n",
    "\"black\" not in colors\n"
   ]
  },
  {
   "cell_type": "code",
   "execution_count": null,
   "metadata": {},
   "outputs": [],
   "source": [
    "\n",
    "len(colors)\n"
   ]
  },
  {
   "cell_type": "code",
   "execution_count": null,
   "metadata": {},
   "outputs": [],
   "source": [
    "\n",
    "# http://tinyurl.com/jmjee5u\n",
    "\n",
    "\n",
    "colors = [\"purple\", \"orange\", \"green\"]\n",
    "\n",
    "\n",
    "guess = input(\"Guess a color:\")\n",
    "\n",
    "\n",
    "if guess in colors:\n",
    "    print(\"You guessed correctly!\")\n",
    "else:\n",
    "    print(\"Wrong! Try again.\")\n"
   ]
  },
  {
   "cell_type": "code",
   "execution_count": null,
   "metadata": {},
   "outputs": [],
   "source": [
    "\n",
    "my_tuple = tuple()\n",
    "my_tuple\n"
   ]
  },
  {
   "cell_type": "code",
   "execution_count": null,
   "metadata": {},
   "outputs": [],
   "source": [
    "\n",
    "my_tuple = ()\n",
    "my_tuple\n"
   ]
  },
  {
   "cell_type": "code",
   "execution_count": null,
   "metadata": {},
   "outputs": [],
   "source": [
    "\n",
    "rndm = (\"M. Jackson\", 1958, True)\n",
    "rndm\n"
   ]
  },
  {
   "cell_type": "code",
   "execution_count": null,
   "metadata": {},
   "outputs": [],
   "source": [
    "\n",
    "# this is a tuple\n",
    "(\"self_taught\",)\n",
    "\n",
    "\n",
    "# this is not a tuple\n",
    "(9) + 1\n"
   ]
  },
  {
   "cell_type": "code",
   "execution_count": null,
   "metadata": {},
   "outputs": [],
   "source": [
    "# Thanks so much for reading my book. Feel free to contact me at cory[at]theselftaughtprogrammer.io.\n",
    "\n",
    "dys = (\"1984\",\n",
    "            \"Brave New World\",\n",
    "            \"Fahrenheit 451\")\n",
    "\n",
    "dys[1] = \"Handmaid's Tale\"\n"
   ]
  },
  {
   "cell_type": "code",
   "execution_count": null,
   "metadata": {},
   "outputs": [],
   "source": [
    "\n",
    "dys = (\"1984\",\n",
    "       \"Brave New World\",\n",
    "       \"Fahrenheit 451\")\n",
    "\n",
    "dys[2]\n"
   ]
  },
  {
   "cell_type": "code",
   "execution_count": null,
   "metadata": {},
   "outputs": [],
   "source": [
    "\n",
    "dys = (\"1984\",\n",
    "       \"Brave New World\",\n",
    "       \"Fahrenheit 451\")\n",
    "\n",
    "\"1984\" in dys\n"
   ]
  },
  {
   "cell_type": "code",
   "execution_count": null,
   "metadata": {},
   "outputs": [],
   "source": [
    "\n",
    "dys = (\"1984\",\n",
    "            \"Brave New World\",\n",
    "            \"Fahrenheit 451\")\n",
    "\n",
    "\"Handmaid's Tale\" not in dys\n"
   ]
  },
  {
   "cell_type": "code",
   "execution_count": null,
   "metadata": {},
   "outputs": [],
   "source": [
    "\n",
    "my_dict = dict()\n",
    "my_dict\n"
   ]
  },
  {
   "cell_type": "code",
   "execution_count": null,
   "metadata": {},
   "outputs": [],
   "source": [
    "\n",
    "my_dict = {}\n",
    "my_dict\n"
   ]
  },
  {
   "cell_type": "code",
   "execution_count": null,
   "metadata": {},
   "outputs": [],
   "source": [
    "\n",
    "fruits = {\"Apple\":\n",
    "          \"Red\",\n",
    "          \"Banana\":\n",
    "          \"Yellow\"}\n",
    "fruits\n"
   ]
  },
  {
   "cell_type": "code",
   "execution_count": null,
   "metadata": {},
   "outputs": [],
   "source": [
    "# Thanks so much for reading my book. Feel free to contact me at cory[at]theselftaughtprogrammer.io.\n",
    "\n",
    "facts = dict()\n",
    "\n",
    "\n",
    "# add a value\n",
    "facts[\"code\"] = \"fun\"\n",
    "# lookup a key\n",
    "facts[\"code\"]\n",
    "\n",
    "\n",
    "# add a value\n",
    "facts[\"Bill\"] = \"Gates\"\n",
    "# lookup a key\n",
    "facts[\"Bill\"]\n",
    "\n",
    "\n",
    "# add a value\n",
    "facts[\"founded\"] = 1776\n",
    "# lookup a key\n",
    "facts[\"founded\"]\n"
   ]
  },
  {
   "cell_type": "code",
   "execution_count": null,
   "metadata": {},
   "outputs": [],
   "source": [
    "bill = dict({\"Bill Gates\":\n",
    "             \"charitable\"})\n",
    "\n",
    "\"Bill Gates\" in bill\n"
   ]
  },
  {
   "cell_type": "code",
   "execution_count": null,
   "metadata": {},
   "outputs": [],
   "source": [
    "\n",
    "bill = dict({\"Bill Gates\":\n",
    "                 \"charitable\"})\n",
    "\n",
    "\n",
    "\"Bill Doors\" not in bill\n"
   ]
  },
  {
   "cell_type": "code",
   "execution_count": null,
   "metadata": {},
   "outputs": [],
   "source": [
    "# Thank you so much for purchasing my book! Feel free to contact me at cory[at]theselftaughtprogrammer.io.\n",
    "# If you are enjoying it, please consider leaving a review on Amazon :). Keep up the hard work!\n",
    "\n",
    "books = {\"Dracula\": \"Stoker\",\n",
    "         \"1984\": \"Orwell\",\n",
    "         \"The Trial\": \"Kafka\"}\n",
    "\n",
    "\n",
    "del books[\"The Trial\"]\n",
    "\n",
    "books\n"
   ]
  },
  {
   "cell_type": "code",
   "execution_count": null,
   "metadata": {},
   "outputs": [],
   "source": [
    "# Thanks so much for reading my book. Feel free to contact me at cory[at]theselftaughtprogrammer.io.\n",
    "\n",
    "rhymes = {\"1\": \"fun\",\n",
    "          \"2\": \"blue\",\n",
    "          \"3\": \"me\",\n",
    "          \"4\": \"floor\",\n",
    "          \"5\": \"live\"\n",
    "          }\n",
    "\n",
    "\n",
    "n = input(\"Type a number:\")\n",
    "if n in rhymes:\n",
    "    rhyme = rhymes[n]\n",
    "    print(rhyme)\n",
    "else:\n",
    "    print(\"Not found.\")\n"
   ]
  },
  {
   "cell_type": "code",
   "execution_count": null,
   "metadata": {},
   "outputs": [],
   "source": [
    "# Thanks so much for reading my book. Feel free to contact me at cory[at]theselftaughtprogrammer.io.\n",
    "\n",
    "\n",
    "lists = []\n",
    "rap = [\"Kanye West\",\n",
    "       \"Jay Z\",\n",
    "       \"Eminem\",\n",
    "       \"Nas\"]\n",
    "\n",
    "\n",
    "rock = [\"Bob Dylan\",\n",
    "        \"The Beatles\",\n",
    "        \"Led Zeppelin\"]\n",
    "\n",
    "\n",
    "djs = [\"Zeds Dead\",\n",
    "       \"Tiesto\"]\n",
    "\n",
    "\n",
    "lists.append(rap)\n",
    "lists.append(rock)\n",
    "lists.append(djs)\n",
    "\n",
    "\n",
    "print(lists)\n"
   ]
  },
  {
   "cell_type": "code",
   "execution_count": null,
   "metadata": {},
   "outputs": [],
   "source": [
    "# Thanks so much for reading my book. Feel free to contact me at cory[at]theselftaughtprogrammer.io.\n",
    "\n",
    "# Continue from\n",
    "# last example\n",
    "\n",
    "rap = lists[0]\n",
    "print(rappers)\n"
   ]
  },
  {
   "cell_type": "code",
   "execution_count": null,
   "metadata": {},
   "outputs": [],
   "source": [
    "\n",
    "# this is an extension\n",
    "# of the previous example\n",
    "\n",
    "\n",
    "rap = lists[0]\n",
    "rap.append(\"Kendrick Lamar\")\n",
    "print(rap)\n",
    "print(lists)\n"
   ]
  },
  {
   "cell_type": "code",
   "execution_count": null,
   "metadata": {},
   "outputs": [],
   "source": [
    "\n",
    "# http://tinyurl.com/jg586u7\n",
    "\n",
    "\n",
    "locations = []\n",
    "\n",
    "\n",
    "la = (34.0522, 188.2437)\n",
    "chicago = (41.8781, 87.6298)\n",
    "\n",
    "\n",
    "locations.append(la)\n",
    "locations.append(chicago)\n",
    "\n",
    "\n",
    "print(locations)\n"
   ]
  },
  {
   "cell_type": "code",
   "execution_count": null,
   "metadata": {},
   "outputs": [],
   "source": [
    "# Thank you so much for purchasing my book! Feel free to contact me at cory[at]theselftaughtprogrammer.io.\n",
    "# If you are enjoying it, please consider leaving a review on Amazon :). Keep up the hard work!\n",
    "\n",
    "eights = [\"Edgar Allan Poe\",\n",
    "          \"Charles Dickens\"]\n",
    "\n",
    "\n",
    "nines = [\"Hemingway\",\n",
    "         \"Fitzgerald\",\n",
    "         \"Orwell\",\n",
    "         \"Sinclair\"]\n",
    "\n",
    "\n",
    "authors = (eights, nines)\n",
    "print(authors)\n"
   ]
  },
  {
   "cell_type": "code",
   "execution_count": null,
   "metadata": {},
   "outputs": [],
   "source": [
    "# Thanks so much for reading my book. Feel free to contact me at cory[at]theselftaughtprogrammer.io.\n",
    "\n",
    "\n",
    "bday = {\"Hemingway\":\n",
    "        \"7.21.1899\",\n",
    "        \"Fitzgerald\":\n",
    "        \"9.24.1896\"}\n",
    "\n",
    "\n",
    "my_list = [bday]\n",
    "print(my_list)\n",
    "my_tuple = (bday,)\n",
    "print(my_tuple)\n"
   ]
  },
  {
   "cell_type": "code",
   "execution_count": null,
   "metadata": {},
   "outputs": [],
   "source": [
    "# Thanks so much for reading my book. Feel free to contact me at cory[at]theselftaughtprogrammer.io.\n",
    "\n",
    "ny = {\"location\":\n",
    "      (40.7128,\n",
    "       74.0059),\n",
    "\n",
    "\n",
    "      \"celebs\":\n",
    "      [\"W. Allen\",\n",
    "       \"Jay Z\",\n",
    "       \"K. Bacon\"],\n",
    "\n",
    "      \"facts\":\n",
    "      {\"state\":\n",
    "       \"NY\",\n",
    "       \"country\":\n",
    "       \"America\"}\n",
    "}\n"
   ]
  },
  {
   "cell_type": "code",
   "execution_count": null,
   "metadata": {},
   "outputs": [],
   "source": [
    "\n",
    "\"\"\" line one\n",
    "    line two\n",
    "    line three\n",
    "\"\"\"\n"
   ]
  },
  {
   "cell_type": "code",
   "execution_count": null,
   "metadata": {},
   "outputs": [],
   "source": [
    "\n",
    "author = \"Kafka\"\n",
    "author[0]\n",
    "author[1]\n",
    "author[2]\n",
    "author[3]\n",
    "author[4]\n"
   ]
  },
  {
   "cell_type": "code",
   "execution_count": null,
   "metadata": {},
   "outputs": [],
   "source": [
    "author = \"Kafka\"\n",
    "author[5]\n"
   ]
  },
  {
   "cell_type": "code",
   "execution_count": null,
   "metadata": {},
   "outputs": [],
   "source": [
    "\n",
    "author = \"Kafka\"\n",
    "author[-1]\n"
   ]
  },
  {
   "cell_type": "code",
   "execution_count": null,
   "metadata": {},
   "outputs": [],
   "source": [
    "\n",
    "author = \"Kafka\"\n",
    "author[-2]\n",
    "author[-3]\n"
   ]
  },
  {
   "cell_type": "code",
   "execution_count": null,
   "metadata": {},
   "outputs": [],
   "source": [
    "# Thanks so much for reading my book. Feel free to contact me at cory[at]theselftaughtprogrammer.io.\n",
    "\n",
    "ff = \"F. Fitzgerald\"\n",
    "ff = \"F. Scott Fitzgerald\"\n",
    "ff\n"
   ]
  },
  {
   "cell_type": "code",
   "execution_count": null,
   "metadata": {},
   "outputs": [],
   "source": [
    "\n",
    "\"cat\" + \"in\" + \"hat\"\n"
   ]
  },
  {
   "cell_type": "code",
   "execution_count": null,
   "metadata": {},
   "outputs": [],
   "source": [
    "\n",
    "\"cat \" + \" in\" + \" the\" + \" hat\"\n"
   ]
  },
  {
   "cell_type": "code",
   "execution_count": null,
   "metadata": {},
   "outputs": [],
   "source": [
    "\n",
    "\"Sawyer\" * 3\n"
   ]
  },
  {
   "cell_type": "code",
   "execution_count": null,
   "metadata": {},
   "outputs": [],
   "source": [
    "\n",
    "\"We hold these truths...\".upper()\n"
   ]
  },
  {
   "cell_type": "code",
   "execution_count": null,
   "metadata": {},
   "outputs": [],
   "source": [
    "\n",
    "\"SO IT GOES.\".lower()\n"
   ]
  },
  {
   "cell_type": "code",
   "execution_count": null,
   "metadata": {},
   "outputs": [],
   "source": [
    "\n",
    "\"four score and...\".capitalize()\n"
   ]
  },
  {
   "cell_type": "code",
   "execution_count": null,
   "metadata": {},
   "outputs": [],
   "source": [
    "# Thanks so much for reading my book. Feel free to contact me at cory[at]theselftaughtprogrammer.io.\n",
    "\n",
    "\"William {}\".format(\"Faulkner\")\n"
   ]
  },
  {
   "cell_type": "code",
   "execution_count": null,
   "metadata": {},
   "outputs": [],
   "source": [
    "# Thanks so much for reading my book. Feel free to contact me at cory[at]theselftaughtprogrammer.io.\n",
    "\n",
    "last = \"Faulkner\"\n",
    "\"William {}\".format(last)\n"
   ]
  },
  {
   "cell_type": "code",
   "execution_count": null,
   "metadata": {},
   "outputs": [],
   "source": [
    "# Thanks so much for reading my book. Feel free to contact me at cory[at]theselftaughtprogrammer.io.\n",
    "\n",
    "\n",
    "author = \"William Faulkner\"\n",
    "year_born = \"1897\"\n",
    "\n",
    "\"\"\"{} was born in {}.\"\"\"\\\n",
    "   .format(author,\n",
    "           year_born)\n"
   ]
  },
  {
   "cell_type": "code",
   "execution_count": null,
   "metadata": {},
   "outputs": [],
   "source": [
    "# Thanks so much for reading my book. Feel free to contact me at cory[at]theselftaughtprogrammer.io.\n",
    "\n",
    "n1 = input(\"Enter a noun:\")\n",
    "v = input(\"Enter a verb:\")\n",
    "adj = input(\"Enter an adj:\")\n",
    "n2 = input(\"Enter a noun:\")\n",
    "\n",
    "r = \"\"\"The {} {} the {} {}\n",
    "    \"\"\".format(n1,\n",
    "               v,\n",
    "               adj,\n",
    "               n2)\n",
    "\n",
    "print(r)\n"
   ]
  },
  {
   "cell_type": "code",
   "execution_count": null,
   "metadata": {},
   "outputs": [],
   "source": [
    "# Thanks so much for reading my book. Feel free to contact me at cory[at]theselftaughtprogrammer.io.\n",
    "\n",
    "\"\"\"Hello.Yes!\"\"\".split(\".\")\n"
   ]
  },
  {
   "cell_type": "code",
   "execution_count": null,
   "metadata": {},
   "outputs": [],
   "source": [
    "\n",
    "first_three = \"abc\"\n",
    "result = \"+\".join(first_three)\n",
    "result\n"
   ]
  },
  {
   "cell_type": "code",
   "execution_count": null,
   "metadata": {},
   "outputs": [],
   "source": [
    "# Thank you so much for purchasing my book! Feel free to contact me at cory[at]theselftaughtprogrammer.io.\n",
    "# If you are enjoying it, please consider leaving a review on Amazon :). Keep up the hard work!\n",
    "\n",
    "\n",
    "words = [\"The\",\n",
    "         \"fox\",\n",
    "         \"jumped\",\n",
    "         \"over\",\n",
    "         \"the\",\n",
    "         \"fence\",\n",
    "         \".\"]\n",
    "one = \"\".join(words)\n",
    "one\n"
   ]
  },
  {
   "cell_type": "code",
   "execution_count": null,
   "metadata": {},
   "outputs": [],
   "source": [
    "\n",
    "words = [\"The\",\n",
    "         \"fox\",\n",
    "         \"jumped\",\n",
    "         \"over\",\n",
    "         \"the\",\n",
    "         \"fence\",\n",
    "         \".\"]\n",
    "one_string = \" \".join(words)\n",
    "one_string\n"
   ]
  },
  {
   "cell_type": "code",
   "execution_count": null,
   "metadata": {},
   "outputs": [],
   "source": [
    "# Thanks so much for reading my book. Feel free to contact me at cory[at]theselftaughtprogrammer.io.\n",
    "\n",
    "s = \"    The        \"\n",
    "s = s.strip()\n",
    "s\n"
   ]
  },
  {
   "cell_type": "code",
   "execution_count": null,
   "metadata": {},
   "outputs": [],
   "source": [
    "# Thanks so much for reading my book. Feel free to contact me at cory[at]theselftaughtprogrammer.io.\n",
    "\n",
    "\n",
    "equ = \"All animals are equal.\"\n",
    "equ = equ.replace(\"a\", \"@\")\n",
    "print(equ)\n"
   ]
  },
  {
   "cell_type": "code",
   "execution_count": null,
   "metadata": {},
   "outputs": [],
   "source": [
    "\n",
    "\"animals\".index(\"m\")\n"
   ]
  },
  {
   "cell_type": "code",
   "execution_count": null,
   "metadata": {},
   "outputs": [],
   "source": [
    "\n",
    "\"animals\".index(\"z\")\n"
   ]
  },
  {
   "cell_type": "code",
   "execution_count": null,
   "metadata": {},
   "outputs": [],
   "source": [
    "\n",
    "try:\n",
    "    \"animals\".index(\"z\")\n",
    "except:\n",
    "    print(\"Not found.\")\n"
   ]
  },
  {
   "cell_type": "code",
   "execution_count": null,
   "metadata": {},
   "outputs": [],
   "source": [
    "\n",
    "\"Cat\" in \"Cat in the hat.\"\n"
   ]
  },
  {
   "cell_type": "code",
   "execution_count": null,
   "metadata": {},
   "outputs": [],
   "source": [
    "\n",
    "\"Bat\" in \"Cat in the hat.\"\n"
   ]
  },
  {
   "cell_type": "code",
   "execution_count": null,
   "metadata": {},
   "outputs": [],
   "source": [
    "\n",
    "\"Potter\" not in \"Harry\"\n"
   ]
  },
  {
   "cell_type": "code",
   "execution_count": null,
   "metadata": {},
   "outputs": [],
   "source": [
    "\n",
    "\"She said \"Surely.\"\"\n"
   ]
  },
  {
   "cell_type": "code",
   "execution_count": null,
   "metadata": {},
   "outputs": [],
   "source": [
    "\n",
    "\"She said \\\"Surely.\\\"\"\n"
   ]
  },
  {
   "cell_type": "code",
   "execution_count": null,
   "metadata": {},
   "outputs": [],
   "source": [
    "\n",
    "'She said \\\"Surely.\\\"'\n"
   ]
  },
  {
   "cell_type": "code",
   "execution_count": null,
   "metadata": {},
   "outputs": [],
   "source": [
    "\n",
    "\"She said 'Surely.'\"\n"
   ]
  },
  {
   "cell_type": "code",
   "execution_count": null,
   "metadata": {},
   "outputs": [],
   "source": [
    "\n",
    "'She said \"Surely.\"'\n"
   ]
  },
  {
   "cell_type": "code",
   "execution_count": null,
   "metadata": {},
   "outputs": [],
   "source": [
    "\n",
    "print(\"line1\\nline2\\nline3\")\n"
   ]
  },
  {
   "cell_type": "code",
   "execution_count": null,
   "metadata": {},
   "outputs": [],
   "source": [
    "\n",
    "fict = [\"Tolstoy\",\n",
    "        \"Camus\",\n",
    "        \"Orwell\",\n",
    "        \"Huxley\",\n",
    "        \"Austin\"]\n",
    "fict[0:3]\n"
   ]
  },
  {
   "cell_type": "code",
   "execution_count": null,
   "metadata": {},
   "outputs": [],
   "source": [
    "# Thank you so much for purchasing my book! Feel free to contact me at cory[at]theselftaughtprogrammer.io.\n",
    "# If you are enjoying it, please consider leaving a review on Amazon :). Keep up the hard work!\n",
    "\n",
    "ivan = \"\"\"In place of death there \\\n",
    "was light.\"\"\"\n",
    "\n",
    "ivan[0:17]\n",
    "ivan[17:33]\n"
   ]
  },
  {
   "cell_type": "code",
   "execution_count": null,
   "metadata": {},
   "outputs": [],
   "source": [
    "# Thanks so much for reading my book. Feel free to contact me at cory[at]theselftaughtprogrammer.io.\n",
    "\n",
    "ivan = \"\"\"In place of death there \\\n",
    "was light.\"\"\"\n",
    "\n",
    "ivan[:17]\n"
   ]
  },
  {
   "cell_type": "code",
   "execution_count": null,
   "metadata": {},
   "outputs": [],
   "source": [
    "# Thanks so much for reading my book. Feel free to contact me at cory[at]theselftaughtprogrammer.io.\n",
    "\n",
    "ivan = \"\"\"In place of death there \\\n",
    "was light.\"\"\"\n",
    "\n",
    "ivan[17:]\n"
   ]
  },
  {
   "cell_type": "code",
   "execution_count": null,
   "metadata": {},
   "outputs": [],
   "source": [
    "# Thanks so much for reading my book. Feel free to contact me at cory[at]theselftaughtprogrammer.io.\n",
    "\n",
    "ivan = \"\"\"In place of death there \\\n",
    "was light.\"\"\"\n",
    "\n",
    "ivan[:]\n"
   ]
  },
  {
   "cell_type": "code",
   "execution_count": null,
   "metadata": {},
   "outputs": [],
   "source": [
    "\n",
    "# http://tinyurl.com/ho5nyj2\n",
    "\n",
    "\n",
    "name = \"Ted\"\n",
    "for character in name:\n",
    "    print(character)\n"
   ]
  },
  {
   "cell_type": "code",
   "execution_count": null,
   "metadata": {},
   "outputs": [],
   "source": [
    "\n",
    "# http://tinyurl.com/gmptmlk\n",
    "\n",
    "\n",
    "shows = [\"GOT\",\n",
    "         \"Narcos\",\n",
    "         \"Vice\"]\n",
    "for show in shows:\n",
    "    print(show)\n"
   ]
  },
  {
   "cell_type": "code",
   "execution_count": null,
   "metadata": {},
   "outputs": [],
   "source": [
    "\n",
    "# http://tinyurl.com/h4xkdcp\n",
    "\n",
    "\n",
    "coms = (\"A. Development\",\n",
    "        \"Friends\",\n",
    "        \"Always Sunny\")\n",
    "for show in coms:\n",
    "    print(show)\n"
   ]
  },
  {
   "cell_type": "code",
   "execution_count": null,
   "metadata": {},
   "outputs": [],
   "source": [
    "\n",
    "# http://tinyurl.com/gqkt74l\n",
    "\n",
    "\n",
    "people = {\"G. Bluth II\":\n",
    "          \"A. Development\",\n",
    "          \"Barney\":\n",
    "          \"HIMYM\",\n",
    "          \"Dennis\":\n",
    "          \"Always Sunny\"\n",
    "          }\n",
    "\n",
    "\n",
    "for character in people:\n",
    "    print(character)\n"
   ]
  },
  {
   "cell_type": "code",
   "execution_count": null,
   "metadata": {},
   "outputs": [],
   "source": [
    "# Thanks so much for reading my book. Feel free to contact me at cory[at]theselftaughtprogrammer.io.\n",
    "\n",
    "tv = [\"GOT\",\n",
    "     \"Narcos\",\n",
    "     \"Vice\"]\n",
    "i = 0\n",
    "for show in tv:\n",
    "    new = tv[i]\n",
    "    new = new.upper()\n",
    "    tv[i] = new\n",
    "    i += 1\n",
    "\n",
    "\n",
    "print(tv)\n"
   ]
  },
  {
   "cell_type": "code",
   "execution_count": null,
   "metadata": {},
   "outputs": [],
   "source": [
    "\n",
    "tv = [\"GOT\", \"Narcos\",\n",
    "      \"Vice\"]\n",
    "for i, show in enumerate(tv):\n",
    "    new = tv[i]\n",
    "    new = new.upper()\n",
    "    tv[i] = new\n",
    "\n",
    "\n",
    "print(tv)\n"
   ]
  },
  {
   "cell_type": "code",
   "execution_count": null,
   "metadata": {},
   "outputs": [],
   "source": [
    "\n",
    "tv = [\"GOT\", \"Narcos\",\n",
    "      \"Vice\"]\n",
    "coms = [\"Arrested Development\",\n",
    "        \"friends\",\n",
    "        \"Always Sunny\"]\n",
    "all_shows = []\n",
    "\n",
    "\n",
    "for show in tv:\n",
    "    show = show.upper()\n",
    "    all_shows.append(show)\n",
    "\n",
    "\n",
    "for show in coms:\n",
    "    show = show.upper()\n",
    "    all_shows.append(show)\n",
    "\n",
    "\n",
    "print(all_shows)\n"
   ]
  },
  {
   "cell_type": "code",
   "execution_count": null,
   "metadata": {},
   "outputs": [],
   "source": [
    "\n",
    "# http://tinyurl.com/hlp69kp\n",
    "\n",
    "\n",
    "for i in range(1, 11):\n",
    "    print(i)\n"
   ]
  },
  {
   "cell_type": "code",
   "execution_count": null,
   "metadata": {},
   "outputs": [],
   "source": [
    "\n",
    "# http://tinyurl.com/h7792op\n",
    "\n",
    "\n",
    "x = 10\n",
    "while x > 0:\n",
    "    print('{}'.format(x))\n",
    "    x -= 1\n",
    "print(\"Happy New Year!\")\n"
   ]
  },
  {
   "cell_type": "code",
   "execution_count": null,
   "metadata": {},
   "outputs": [],
   "source": [
    "\n",
    "# http://tinyurl.com/hdg7jpq\n",
    "\n",
    "\n",
    "while True:\n",
    "    print(\"Hello, World!\")\n",
    "\n",
    "\n"
   ]
  },
  {
   "cell_type": "code",
   "execution_count": null,
   "metadata": {},
   "outputs": [],
   "source": [
    "\n",
    "# http://tinyurl.com/zyjwmzd\n",
    "\n",
    "\n",
    "for i in range(0, 100):\n",
    "    print(i)\n"
   ]
  },
  {
   "cell_type": "code",
   "execution_count": null,
   "metadata": {},
   "outputs": [],
   "source": [
    "\n",
    "# http://tinyurl.com/hvwb7be\n",
    "\n",
    "\n",
    "for i in range(0, 100):\n",
    "    print(i)\n",
    "    break\n"
   ]
  },
  {
   "cell_type": "code",
   "execution_count": null,
   "metadata": {},
   "outputs": [],
   "source": [
    "# Thanks so much for reading my book. Feel free to contact me at cory[at]theselftaughtprogrammer.io.\n",
    "\n",
    "\n",
    "qs = [\"What is your name?\",\n",
    "      \"What is your fav. color?\",\n",
    "      \"What is your quest?\"]\n",
    "n = 0\n",
    "while True:\n",
    "    print(\"Type q to quit\")\n",
    "    a = input(qs[n])\n",
    "    if a == \"q\":\n",
    "        break\n",
    "    n = (n + 1) % 3\n"
   ]
  },
  {
   "cell_type": "code",
   "execution_count": null,
   "metadata": {},
   "outputs": [],
   "source": [
    "\n",
    "# http://tinyurl.com/j4vooyk\n",
    "\n",
    "\n",
    "for i in range(1, 6):\n",
    "    if i == 3:\n",
    "        continue\n",
    "    print(i)\n"
   ]
  },
  {
   "cell_type": "code",
   "execution_count": null,
   "metadata": {},
   "outputs": [],
   "source": [
    "\n",
    "# http://tinyurl.com/hysu5se\n",
    "\n",
    "\n",
    "i = 1\n",
    "while i <= 5:\n",
    "    if i == 3:\n",
    "        i += 1\n",
    "        continue\n",
    "    print(i)\n",
    "    i += 1\n"
   ]
  },
  {
   "cell_type": "code",
   "execution_count": null,
   "metadata": {},
   "outputs": [],
   "source": [
    "\n",
    "# http://tinyurl.com/gtqz6vt\n",
    "\n",
    "\n",
    "for i in range(1, 3):\n",
    "    print(i)\n",
    "    for letter in [\"a\", \"b\", \"c\"]:\n",
    "        print(letter)\n"
   ]
  },
  {
   "cell_type": "code",
   "execution_count": null,
   "metadata": {},
   "outputs": [],
   "source": [
    "# Thank you so much for purchasing my book! Feel free to contact me at cory[at]theselftaughtprogrammer.io.\n",
    "# If you are enjoying it, please consider leaving a review on Amazon :). Keep up the hard work!\n",
    "\n",
    "list1 = [1, 2, 3, 4]\n",
    "list2 = [5, 6, 7, 8]\n",
    "added = []\n",
    "for i in list1:\n",
    "    for j in list2:\n",
    "        added.append(i + j)\n",
    "\n",
    "\n",
    "print(added)\n"
   ]
  },
  {
   "cell_type": "code",
   "execution_count": null,
   "metadata": {},
   "outputs": [],
   "source": [
    "\n",
    "# http://tinyurl.com/j798mus\n",
    "\n",
    "\n",
    "while input('y or n?') != 'n':\n",
    "    for i in range(1, 6):\n",
    "        print(i)\n"
   ]
  },
  {
   "cell_type": "code",
   "execution_count": null,
   "metadata": {},
   "outputs": [],
   "source": [
    "\n",
    "import math\n"
   ]
  },
  {
   "cell_type": "code",
   "execution_count": null,
   "metadata": {},
   "outputs": [],
   "source": [
    "\n",
    "import math\n",
    "\n",
    "\n",
    "math.pow(2, 3)\n"
   ]
  },
  {
   "cell_type": "code",
   "execution_count": null,
   "metadata": {},
   "outputs": [],
   "source": [
    "\n",
    "# The output might not be 52\n",
    "# when you run it—it’s random!\n",
    "\n",
    "\n",
    "import random\n",
    "\n",
    "\n",
    "random.randint(0,100)\n"
   ]
  },
  {
   "cell_type": "code",
   "execution_count": null,
   "metadata": {},
   "outputs": [],
   "source": [
    "# Thanks so much for reading my book. Feel free to contact me at cory[at]theselftaughtprogrammer.io.\n",
    "\n",
    "import statistics\n",
    "\n",
    "# mean\n",
    "nums = [1, 5, 33, 12, 46, 33, 2]\n",
    "statistics.mean(nums)\n",
    "\n",
    "\n",
    "# median\n",
    "statistics.median(nums)\n",
    "\n",
    "\n",
    "# mode\n",
    "statistics.mode(nums)\n"
   ]
  },
  {
   "cell_type": "code",
   "execution_count": null,
   "metadata": {},
   "outputs": [],
   "source": [
    "\n",
    "import keyword\n",
    "\n",
    "\n",
    "keyword.iskeyword(\"for\")\n",
    "keyword.iskeyword(\"football\")\n",
    "\n",
    "\n"
   ]
  },
  {
   "cell_type": "code",
   "execution_count": null,
   "metadata": {},
   "outputs": [],
   "source": [
    "\n",
    "# http://tinyurl.com/jhtgxjn\n",
    "\n",
    "\n",
    "def print_hello():\n",
    "    print(\"Hello\")\n"
   ]
  },
  {
   "cell_type": "code",
   "execution_count": null,
   "metadata": {},
   "outputs": [],
   "source": [
    "\n",
    "# http://tinyurl.com/zdv7xyl\n",
    "\n",
    "\n",
    "import hello\n",
    "\n",
    "\n",
    "hello.print_hello()\n"
   ]
  },
  {
   "cell_type": "code",
   "execution_count": null,
   "metadata": {},
   "outputs": [],
   "source": [
    "\n",
    "# code in module1\n",
    "print(\"Hello!\")\n"
   ]
  },
  {
   "cell_type": "code",
   "execution_count": null,
   "metadata": {},
   "outputs": [],
   "source": [
    "# code in module2\n",
    "import hello\n"
   ]
  },
  {
   "cell_type": "code",
   "execution_count": null,
   "metadata": {},
   "outputs": [],
   "source": [
    "\n",
    "# code in module1\n",
    "if __name__ == \"__main__\":\n",
    "    print(\"Hello!\")\n"
   ]
  },
  {
   "cell_type": "code",
   "execution_count": null,
   "metadata": {},
   "outputs": [],
   "source": [
    "\n",
    "# code in module2\n",
    "import hello\n"
   ]
  },
  {
   "cell_type": "code",
   "execution_count": null,
   "metadata": {},
   "outputs": [],
   "source": [
    "\n",
    "import os\n",
    "os.path.join(\"Users\",\n",
    "             \"bob\",\n",
    "             \"st.txt\")\n"
   ]
  },
  {
   "cell_type": "code",
   "execution_count": null,
   "metadata": {},
   "outputs": [],
   "source": [
    "\n",
    "# http://tinyurl.com/zymnkgn\n",
    "\n",
    "\n",
    "st = open(\"st.txt\", \"w\")\n",
    "st.write(\"hi from Python!\")\n",
    "st.close()\n"
   ]
  },
  {
   "cell_type": "code",
   "execution_count": null,
   "metadata": {},
   "outputs": [],
   "source": [
    "\n",
    "# http://tinyurl.com/za4sf79\n",
    "\n",
    "\n",
    "with open(\"st.txt\", \"w\") as f:\n",
    "    f.write(\"hi from Python!\")\n"
   ]
  },
  {
   "cell_type": "code",
   "execution_count": null,
   "metadata": {},
   "outputs": [],
   "source": [
    "\n",
    "# http://tinyurl.com/h27ya5h\n",
    "\n",
    "\n",
    "# make sure you’ve\n",
    "# created the file from\n",
    "# the previous example\n",
    "\n",
    "\n",
    "with open(\"st.txt\", \"r\") as f:\n",
    "    print(f.read())\n"
   ]
  },
  {
   "cell_type": "code",
   "execution_count": null,
   "metadata": {},
   "outputs": [],
   "source": [
    "\n",
    "# http://tinyurl.com/hhyy6po\n",
    "\n",
    "\n",
    "my_list = list()\n",
    "\n",
    "\n",
    "with open(\"st.txt\", \"r\") as f:\n",
    "    my_list.append(f.read())\n",
    "\n",
    "\n",
    "print(my_list)\n"
   ]
  },
  {
   "cell_type": "code",
   "execution_count": null,
   "metadata": {},
   "outputs": [],
   "source": [
    "# Thanks so much for reading my book. Feel free to contact me at cory[at]theselftaughtprogrammer.io.\n",
    "\n",
    "\n",
    "import csv\n",
    "\n",
    "\n",
    "with open(\"st.csv\", \"w\", newline='') as f:\n",
    "    write = csv.writer(f, delimiter=\",\")\n",
    "    write.writerow([\"one\",\n",
    "                    \"two\",\n",
    "                    \"three\"])\n",
    "    write.writerow([\"four\",\n",
    "                    \"five\",\n",
    "                    \"six\"])\n"
   ]
  },
  {
   "cell_type": "code",
   "execution_count": null,
   "metadata": {},
   "outputs": [],
   "source": [
    "# Thanks so much for reading my book. Feel free to contact me at cory[at]theselftaughtprogrammer.io.\n",
    "\n",
    "\n",
    "import csv\n",
    "\n",
    "\n",
    "# make sure you’ve created\n",
    "# the file from the previous\n",
    "# example\n",
    "\n",
    "\n",
    "with open(\"st.csv\", \"r\") as f:\n",
    "    r = csv.reader(f, delimiter=\",\")\n",
    "    for row in r:\n",
    "        print(\",\".join(row))\n"
   ]
  },
  {
   "cell_type": "code",
   "execution_count": null,
   "metadata": {},
   "outputs": [],
   "source": [
    "# Thanks so much for reading my book. Feel free to contact me at cory[at]theselftaughtprogrammer.io.\n",
    "\n",
    "\n",
    "\n",
    "def hangman(word):\n",
    "    wrong = 0\n",
    "    stages = [\"\",\n",
    "             \"________        \",\n",
    "             \"|               \",\n",
    "             \"|        |      \",\n",
    "             \"|        0      \",\n",
    "             \"|       /|\\     \",\n",
    "             \"|       / \\     \",\n",
    "             \"|               \"\n",
    "              ]\n",
    "    rletters = list(word)\n",
    "    board = [\"__\"] * len(word)\n",
    "    win = False\n",
    "    print(\"Welcome to Hangman\")\n"
   ]
  },
  {
   "cell_type": "code",
   "execution_count": null,
   "metadata": {},
   "outputs": [],
   "source": [
    "# Thanks so much for reading my book. Feel free to contact me at cory[at]theselftaughtprogrammer.io.\n",
    "\n",
    "\n",
    "while wrong < len(stages) - 1:\n",
    "    print(\"\\n\")\n",
    "    msg = \"Guess a letter\"\n",
    "    char = input(msg)\n",
    "    if char in rletters:\n",
    "        cind = rletters \\\n",
    "               .index(char)\n",
    "        board[cind] = char\n",
    "        rletters[cind] = '$'\n",
    "    else:\n",
    "        wrong += 1\n",
    "    print((\" \".join(board)))\n",
    "    e = wrong + 1\n",
    "    print(\"\\n\"\n",
    "          .join(stages[0: e]))\n",
    "    if \"__\" not in board:\n",
    "        print(\"You win!\")\n",
    "        print(\" \".join(board))\n",
    "        win = True\n",
    "        break\n"
   ]
  },
  {
   "cell_type": "code",
   "execution_count": null,
   "metadata": {},
   "outputs": [],
   "source": [
    "# Thanks so much for reading my book. Feel free to contact me at cory[at]theselftaughtprogrammer.io.\n",
    "\n",
    "if not win:\n",
    "    print(\"\\n\"\n",
    "          .join(stages[0: \\\n",
    "          wrong]))\n",
    "    print(\"You lose! It was {}.\"\n",
    "          .format(word))\n"
   ]
  },
  {
   "cell_type": "code",
   "execution_count": null,
   "metadata": {},
   "outputs": [],
   "source": [
    "# Thanks so much for reading my book. Feel free to contact me at cory[at]theselftaughtprogrammer.io.\n",
    "\n",
    "\n",
    "def hangman(word):\n",
    "    wrong = 0\n",
    "    stages = [\"\",\n",
    "             \"________        \",\n",
    "             \"|               \",\n",
    "             \"|        |      \",\n",
    "             \"|        0      \",\n",
    "             \"|       /|\\     \",\n",
    "             \"|       / \\     \",\n",
    "             \"|               \"\n",
    "              ]\n",
    "    rletters = list(word)\n",
    "    board = [\"__\"] * len(word)\n",
    "    win = False\n",
    "    print(\"Welcome to Hangman\")\n",
    "    while wrong < len(stages) - 1:\n",
    "        print(\"\\n\")\n",
    "        msg = \"Guess a letter\"\n",
    "        char = input(msg)\n",
    "        if char in rletters:\n",
    "            cind = rletters \\\n",
    "                   .index(char)\n",
    "            board[cind] = char\n",
    "            rletters[cind] = '$'\n",
    "        else:\n",
    "            wrong += 1\n",
    "        print((\" \".join(board)))\n",
    "        e = wrong + 1\n",
    "        print(\"\\n\"\n",
    "              .join(stages[0: e]))\n",
    "        if \"__\" not in board:\n",
    "            print(\"You win!\")\n",
    "            print(\" \".join(board))\n",
    "            win = True\n",
    "            break\n",
    "    if not win:\n",
    "        print(\"\\n\"\n",
    "              .join(stages[0: \\\n",
    "              wrong]))\n",
    "        print(\"You lose! It was {}.\"\n",
    "              .format(word))\n",
    "\n",
    "hangman(\"cat\")\n"
   ]
  },
  {
   "cell_type": "code",
   "execution_count": null,
   "metadata": {},
   "outputs": [],
   "source": [
    "\n",
    "x = 2\n",
    "y = 4\n",
    "z = 8\n",
    "xyz = x + y + z\n",
    "xyz\n"
   ]
  },
  {
   "cell_type": "code",
   "execution_count": null,
   "metadata": {},
   "outputs": [],
   "source": [
    "# Thank you so much for purchasing my book! Feel free to contact me at cory[at]theselftaughtprogrammer.io.\n",
    "# If you are enjoying it, please consider leaving a review on Amazon :). Keep up the hard work!\n",
    "\n",
    "rock = []\n",
    "country = []\n",
    "\n",
    "\n",
    "def collect_songs():\n",
    "    song = \"Enter a song.\"\n",
    "    ask = \"Type r or c. q to quit\"\n",
    "\n",
    "    while True:\n",
    "        genre = input(ask)\n",
    "        if genre == \"q\":\n",
    "            break\n",
    "\n",
    "        if genre == \"r\":\n",
    "            rk = input(song)\n",
    "            rock.append(rk)\n",
    "\n",
    "        elif genre ==(\"c\"):\n",
    "            cy = input(song)\n",
    "            country.append(cy)\n",
    "\n",
    "        else:\n",
    "            print(\"Invalid.\")\n",
    "    print(rock)\n",
    "    print(country)\n",
    "\n",
    "collect_songs()\n"
   ]
  },
  {
   "cell_type": "code",
   "execution_count": null,
   "metadata": {},
   "outputs": [],
   "source": [
    "a = 0\n",
    "\n",
    "\n",
    "def increment():\n",
    "    global a\n",
    "    a += 1\n"
   ]
  },
  {
   "cell_type": "code",
   "execution_count": null,
   "metadata": {},
   "outputs": [],
   "source": [
    "\n",
    "def increment(a):\n",
    "    return a + 1\n"
   ]
  },
  {
   "cell_type": "code",
   "execution_count": null,
   "metadata": {},
   "outputs": [],
   "source": [
    "# Thanks so much for reading my book. Feel free to contact me at cory[at]theselftaughtprogrammer.io.\n",
    "\n",
    "class Orange:\n",
    "    def __init__(self):\n",
    "        print(\"Created!\")\n"
   ]
  },
  {
   "cell_type": "code",
   "execution_count": null,
   "metadata": {},
   "outputs": [],
   "source": [
    "# Thank you so much for purchasing my book! Feel free to contact me at cory[at]theselftaughtprogrammer.io.\n",
    "# If you are enjoying it, please consider leaving a review on Amazon :). Keep up the hard work!\n",
    "\n",
    "\n",
    "class Orange:\n",
    "    def __init__(self, w, c):\n",
    "        self.weight = w\n",
    "        self.color = c\n",
    "        print(\"Created!\")\n"
   ]
  },
  {
   "cell_type": "code",
   "execution_count": null,
   "metadata": {},
   "outputs": [],
   "source": [
    "# Thanks so much for reading my book. Feel free to contact me at cory[at]theselftaughtprogrammer.io.\n",
    "\n",
    "\n",
    "class Orange:\n",
    "    def __init__(self, w, c):\n",
    "        self.weight = w\n",
    "        self.color = c\n",
    "        print(\"Created!\")\n",
    "\n",
    "or1 = Orange(10, \"dark orange\")\n",
    "print(or1)\n"
   ]
  },
  {
   "cell_type": "code",
   "execution_count": null,
   "metadata": {},
   "outputs": [],
   "source": [
    "# Thanks so much for reading my book. Feel free to contact me at cory[at]theselftaughtprogrammer.io.\n",
    "\n",
    "\n",
    "class Orange:\n",
    "    def __init__(self, w, c):\n",
    "        self.weight = w\n",
    "        self.color = c\n",
    "        print(\"Created!\")\n",
    "\n",
    "or1 = Orange(10, \"dark orange\")\n",
    "print(or1.weight)\n",
    "print(or1.color)\n"
   ]
  },
  {
   "cell_type": "code",
   "execution_count": null,
   "metadata": {},
   "outputs": [],
   "source": [
    "# Thank you so much for purchasing my book! Feel free to contact me at cory[at]theselftaughtprogrammer.io.\n",
    "# If you are enjoying it, please consider leaving a review on Amazon :). Keep up the hard work!\n",
    "\n",
    "\n",
    "class Orange:\n",
    "    def __init__(self, w, c):\n",
    "        self.weight = w\n",
    "        self.color = c\n",
    "        print(\"Created!\")\n",
    "\n",
    "or1 = Orange(10, \"dark orange\")\n",
    "or1.weight = 100\n",
    "or1.color = \"light orange\"\n",
    "\n",
    "print(or1.weight)\n",
    "print(or1.color)\n",
    "\n"
   ]
  },
  {
   "cell_type": "code",
   "execution_count": null,
   "metadata": {},
   "outputs": [],
   "source": [
    "# Thanks so much for reading my book. Feel free to contact me at cory[at]theselftaughtprogrammer.io.\n",
    "\n",
    "\n",
    "class Orange:\n",
    "    def __init__(self, w, c):\n",
    "        self.weight = w\n",
    "        self.color = c\n",
    "        print(\"Created!\")\n",
    "\n",
    "or1 = Orange(4, \"light orange\")\n",
    "or2 = Orange(8, \"dark orange\")\n",
    "or3 = Orange(14, \"yellow\")\n"
   ]
  },
  {
   "cell_type": "code",
   "execution_count": null,
   "metadata": {},
   "outputs": [],
   "source": [
    "# Thanks so much for reading my book. Feel free to contact me at cory[at]theselftaughtprogrammer.io.\n",
    "\n",
    "\n",
    "class Orange():\n",
    "    def __init__(self, w, c):\n",
    "        \"\"\"weights are in oz\"\"\"\n",
    "        self.weight = w\n",
    "        self.color = c\n",
    "        self.mold = 0\n",
    "        print(\"Created!\")\n",
    "\n",
    "    def rot(self, days, temp):\n",
    "        self.mold = days * temp\n",
    "\n",
    "orange = Orange(6, \"orange\")\n",
    "print(orange.mold)\n",
    "orange.rot(10, 98)\n",
    "print(orange.mold)\n"
   ]
  },
  {
   "cell_type": "code",
   "execution_count": null,
   "metadata": {},
   "outputs": [],
   "source": [
    "# Thanks so much for reading my book. Feel free to contact me at cory[at]theselftaughtprogrammer.io.\n",
    "\n",
    "\n",
    "class Rectangle():\n",
    "    def __init__(self, w, l):\n",
    "        self.width = w\n",
    "        self.len = l\n",
    "\n",
    "    def area(self):\n",
    "        return self.width * self.len\n",
    "\n",
    "    def change_size(self, w, l):\n",
    "        self.width = w\n",
    "        self.len = l\n",
    "\n",
    "rectangle = Rectangle(10, 20)\n",
    "print(rectangle.area())\n",
    "rectangle.change_size(20, 40)\n",
    "print(rectangle.area())\n"
   ]
  },
  {
   "cell_type": "code",
   "execution_count": null,
   "metadata": {},
   "outputs": [],
   "source": [
    "# Thanks so much for reading my book. Feel free to contact me at cory[at]theselftaughtprogrammer.io.\n",
    "\n",
    "\n",
    "class Rectangle():\n",
    "    def __init__(self, w, l):\n",
    "        self.width = w\n",
    "        self.len = l\n",
    "\n",
    "\n",
    "    def area(self):\n",
    "        return self.width * self.len\n"
   ]
  },
  {
   "cell_type": "code",
   "execution_count": null,
   "metadata": {},
   "outputs": [],
   "source": [
    "# Thanks so much for reading my book. Feel free to contact me at cory[at]theselftaughtprogrammer.io.\n",
    "\n",
    "\n",
    "class Data:\n",
    "    def __init__(self):\n",
    "        self.nums = [1, 2, 3, 4, 5]\n",
    "\n",
    "    def change_data(self, index, n):\n",
    "        self.nums[index] = n\n"
   ]
  },
  {
   "cell_type": "code",
   "execution_count": null,
   "metadata": {},
   "outputs": [],
   "source": [
    "# Thank you so much for purchasing my book! Feel free to contact me at cory[at]theselftaughtprogrammer.io.\n",
    "# If you are enjoying it, please consider leaving a review on Amazon :). Keep up the hard work!\n",
    "\n",
    "\n",
    "class Data:\n",
    "    def __init__(self):\n",
    "        self.nums = [1, 2, 3, 4, 5]\n",
    "\n",
    "    def change_data(self, index, n):\n",
    "        self.nums[index] = n\n",
    "\n",
    "data_one = Data()\n",
    "data_one.nums[0] = 100\n",
    "print(data_one.nums)\n",
    "\n",
    "data_two = Data()\n",
    "data_two.change_data(0, 100)\n",
    "print(data_two.nums)\n"
   ]
  },
  {
   "cell_type": "code",
   "execution_count": null,
   "metadata": {},
   "outputs": [],
   "source": [
    "\n",
    "# http://tinyurl.com/z3csgtt\n",
    "\n",
    "\n",
    "class PublicPrivateExample:\n",
    "    def __init__(self):\n",
    "        self.public = \"safe\"\n",
    "        self._unsafe = \"unsafe\"\n",
    "\n",
    "\n",
    "    def public_method(self):\n",
    "        # clients can use this\n",
    "        pass\n",
    "\n",
    "\n",
    "    def _unsafe_method(self):\n",
    "        # clients shouldn't use this\n",
    "        pass\n"
   ]
  },
  {
   "cell_type": "code",
   "execution_count": null,
   "metadata": {},
   "outputs": [],
   "source": [
    "\n",
    "print(\"Hello, World!\")\n",
    "print(200)\n",
    "print(200.1)\n"
   ]
  },
  {
   "cell_type": "code",
   "execution_count": null,
   "metadata": {},
   "outputs": [],
   "source": [
    "# Do not run.\n",
    "\n",
    "# Drawing shapes\n",
    "# w/o polymorphism\n",
    "shapes = [tr1, sq1, cr1]\n",
    "for a_shape in shapes:\n",
    "    if type(a_shape) == \"Triangle\":\n",
    "        a_shape.draw_triangle()\n",
    "    if type(a_shape) == \"Square\":\n",
    "        a_shape.draw_square()\n",
    "    if type(a_shape) == \"Circle\":\n",
    "         a_shape.draw_circle()\n",
    "\n",
    "# Drawing shapes\n",
    "# with polymorphism\n",
    "shapes = [tr1,\n",
    "          sw1,\n",
    "          cr1]\n",
    "for a_shape in shapes:\n",
    "    a_shape.draw()\n"
   ]
  },
  {
   "cell_type": "code",
   "execution_count": null,
   "metadata": {},
   "outputs": [],
   "source": [
    "# Thanks so much for reading my book. Feel free to contact me at cory[at]theselftaughtprogrammer.io.\n",
    "\n",
    "\n",
    "class Shape():\n",
    "    def __init__(self, w, l):\n",
    "        self.width = w\n",
    "        self.len = l\n",
    "\n",
    "    def print_size(self):\n",
    "        print(\"\"\"{} by {}\n",
    "              \"\"\".format(self.width,\n",
    "                         self.len))\n",
    "\n",
    "class Square(Shape):\n",
    "    pass\n",
    "\n",
    "a_square = Square(20,20)\n",
    "a_square.print_size()\n"
   ]
  },
  {
   "cell_type": "code",
   "execution_count": null,
   "metadata": {},
   "outputs": [],
   "source": [
    "# Thanks so much for reading my book. Feel free to contact me at cory[at]theselftaughtprogrammer.io.\n",
    "\n",
    "\n",
    "class Shape():\n",
    "    def __init__(self, w, l):\n",
    "        self.width = w\n",
    "        self.len = l\n",
    "\n",
    "    def print_size(self):\n",
    "        print(\"\"\"{} by {}\n",
    "             \"\"\".format(self.width,\n",
    "                        self.len))\n",
    "\n",
    "\n",
    "class Square(Shape):\n",
    "    pass\n",
    "\n",
    "a_square = Square(20,20)\n",
    "a_square.print_size()\n"
   ]
  },
  {
   "cell_type": "code",
   "execution_count": 110,
   "metadata": {},
   "outputs": [
    {
     "name": "stdout",
     "output_type": "stream",
     "text": [
      "400\n"
     ]
    }
   ],
   "source": [
    "# Thanks so much for reading my book. Feel free to contact me at cory[at]theselftaughtprogrammer.io.\n",
    "\n",
    "\n",
    "class Shape():\n",
    "    def __init__(self, w, l):\n",
    "        self.width = w\n",
    "        self.len = l\n",
    "\n",
    "    def print_size(self):\n",
    "        print(\"\"\"{} by {}\n",
    "              \"\"\".format(self.width,\n",
    "                         self.len))\n",
    "\n",
    "\n",
    "class Square(Shape):\n",
    "    def area(self):\n",
    "        return self.width * self.len\n",
    "\n",
    "a_square = Square(20, 20)\n",
    "print(a_square.area())\n"
   ]
  },
  {
   "cell_type": "code",
   "execution_count": 111,
   "metadata": {},
   "outputs": [
    {
     "name": "stdout",
     "output_type": "stream",
     "text": [
      "I am 20 by 20\n",
      "            \n"
     ]
    }
   ],
   "source": [
    "# Thanks so much for reading my book. Feel free to contact me at cory[at]theselftaughtprogrammer.io.\n",
    "\n",
    "\n",
    "class Shape():\n",
    "    def __init__(self, w, l):\n",
    "        self.width = w\n",
    "        self.len = l\n",
    "\n",
    "    def print_size(self):\n",
    "        print(\"\"\"{} by {}\n",
    "              \"\"\".format(self.width,\n",
    "                         self.len))\n",
    "\n",
    "\n",
    "class Square(Shape):\n",
    "    def area(self):\n",
    "        return self.width * self.len\n",
    "\n",
    "    def print_size(self):\n",
    "      print(\"\"\"I am {} by {}\n",
    "            \"\"\".format(self.width,\n",
    "                       self.len))\n",
    "\n",
    "a_square = Square(20, 20)\n",
    "a_square.print_size()\n",
    "\n"
   ]
  },
  {
   "cell_type": "code",
   "execution_count": 112,
   "metadata": {},
   "outputs": [],
   "source": [
    "class Dog():\n",
    "    def __init__(self,\n",
    "                 name,\n",
    "                 breed,\n",
    "                 owner):\n",
    "        self.name = name\n",
    "        self.breed = breed\n",
    "        self.owner = owner\n",
    "\n",
    "\n",
    "class Person():\n",
    "    def __init__(self, name):\n",
    "        self.name = name\n"
   ]
  },
  {
   "cell_type": "code",
   "execution_count": 113,
   "metadata": {},
   "outputs": [
    {
     "name": "stdout",
     "output_type": "stream",
     "text": [
      "Mick Jagger\n"
     ]
    }
   ],
   "source": [
    "# Thanks so much for reading my book. Feel free to contact me at cory[at]theselftaughtprogrammer.io.\n",
    "\n",
    "\n",
    "# Continue from\n",
    "# last example\n",
    "\n",
    "mick = Person(\"Mick Jagger\")\n",
    "stan = Dog(\"Stanley\",\n",
    "           \"Bulldog\",\n",
    "           mick)\n",
    "print(stan.owner.name)\n"
   ]
  },
  {
   "cell_type": "code",
   "execution_count": 114,
   "metadata": {},
   "outputs": [
    {
     "name": "stdout",
     "output_type": "stream",
     "text": [
      "<class '__main__.Square'>\n"
     ]
    }
   ],
   "source": [
    "\n",
    "# http://tinyurl.com/hnb5348\n",
    "\n",
    "\n",
    "class Square:\n",
    "    pass\n",
    "\n",
    "\n",
    "print(Square)\n"
   ]
  },
  {
   "cell_type": "code",
   "execution_count": 115,
   "metadata": {},
   "outputs": [
    {
     "name": "stdout",
     "output_type": "stream",
     "text": [
      "10 by 24\n",
      "              \n"
     ]
    }
   ],
   "source": [
    "class Rectangle():\n",
    "    def __init__(self, w, l):\n",
    "        self.width = w\n",
    "        self.length = l\n",
    "\n",
    "    def print_size(self):\n",
    "        print(\"\"\"{} by {}\n",
    "              \"\"\".format(self.width,\n",
    "                         self.length))\n",
    "\n",
    "\n",
    "my_rectangle = Rectangle(10, 24)\n",
    "my_rectangle.print_size()\n"
   ]
  },
  {
   "cell_type": "code",
   "execution_count": 116,
   "metadata": {},
   "outputs": [
    {
     "name": "stdout",
     "output_type": "stream",
     "text": [
      "[(10, 24), (20, 40), (100, 200)]\n"
     ]
    }
   ],
   "source": [
    "# Thank you so much for purchasing my book! Feel free to contact me at cory[at]theselftaughtprogrammer.io.\n",
    "# If you are enjoying it, please consider leaving a review on Amazon :). Keep up the hard work!\n",
    "\n",
    "\n",
    "class Rectangle():\n",
    "    recs = []\n",
    "\n",
    "    def __init__(self, w, l):\n",
    "        self.width = w\n",
    "        self.len = l\n",
    "        self.recs.append((self.width,\n",
    "                          self.len))\n",
    "\n",
    "    def print_size(self):\n",
    "        print(\"\"\"{} by {}\n",
    "              \"\"\".format(self.width,\n",
    "                         self.len))\n",
    "\n",
    "r1 = Rectangle(10, 24)\n",
    "r2 = Rectangle(20, 40)\n",
    "r3 = Rectangle(100, 200)\n",
    "\n",
    "print(Rectangle.recs)\n",
    "\n"
   ]
  },
  {
   "cell_type": "code",
   "execution_count": 117,
   "metadata": {},
   "outputs": [
    {
     "name": "stdout",
     "output_type": "stream",
     "text": [
      "<__main__.Lion object at 0x0000000005A38AC8>\n"
     ]
    }
   ],
   "source": [
    "\n",
    "# http://tinyurl.com/zv9rxyh\n",
    "\n",
    "\n",
    "class Lion:\n",
    "   def __init__(self, name):\n",
    "       self.name = name\n",
    "\n",
    "\n",
    "lion = Lion(\"Dilbert\")\n",
    "print(lion)\n"
   ]
  },
  {
   "cell_type": "code",
   "execution_count": null,
   "metadata": {},
   "outputs": [
    {
     "name": "stdout",
     "output_type": "stream",
     "text": [
      "Dilbert\n"
     ]
    }
   ],
   "source": [
    "\n",
    "# http://tinyurl.com/j9nv5qm\n",
    "\n",
    "\n",
    "class Lion:\n",
    "    def __init__(self, name):\n",
    "        self.name = name\n",
    "\n",
    "\n",
    "    def __repr__(self):\n",
    "        return self.name\n",
    "\n",
    "\n",
    "lion = Lion(\"Dilbert\")\n",
    "print(lion)\n"
   ]
  },
  {
   "cell_type": "code",
   "execution_count": null,
   "metadata": {},
   "outputs": [
    {
     "name": "stdout",
     "output_type": "stream",
     "text": [
      "10\n"
     ]
    }
   ],
   "source": [
    "# Thanks so much for reading my book. Feel free to contact me at cory[at]theselftaughtprogrammer.io.\n",
    "\n",
    "\n",
    "class AlwaysPositive:\n",
    "    def __init__(self, number):\n",
    "        self.n = number\n",
    "\n",
    "    def __add__(self, other):\n",
    "        return abs(self.n +\n",
    "                   other.n)\n",
    "\n",
    "x = AlwaysPositive(-20)\n",
    "y = AlwaysPositive(10)\n",
    "\n",
    "print(x + y)\n"
   ]
  },
  {
   "cell_type": "code",
   "execution_count": null,
   "metadata": {},
   "outputs": [
    {
     "name": "stdout",
     "output_type": "stream",
     "text": [
      "True\n",
      "False\n"
     ]
    }
   ],
   "source": [
    "# Thanks so much for reading my book. Feel free to contact me at cory[at]theselftaughtprogrammer.io.\n",
    "\n",
    "\n",
    "class Person:\n",
    "    def __init__(self):\n",
    "        self.name = 'Bob'\n",
    "\n",
    "bob = Person()\n",
    "same_bob = bob\n",
    "print(bob is same_bob)\n",
    "\n",
    "another_bob = Person()\n",
    "print(bob is another_bob)\n"
   ]
  },
  {
   "cell_type": "code",
   "execution_count": null,
   "metadata": {},
   "outputs": [
    {
     "name": "stdout",
     "output_type": "stream",
     "text": [
      "x is not None\n",
      "x is None\n"
     ]
    }
   ],
   "source": [
    "\n",
    "# http://tinyurl.com/jos8sza\n",
    "\n",
    "\n",
    "x = 10\n",
    "if x is None:\n",
    "    print(\"x is None :( \")\n",
    "else:\n",
    "    print(\"x is not None\")\n",
    "\n",
    "\n",
    "x = None\n",
    "if x is None:\n",
    "    print(\"x is None\")\n",
    "else:\n",
    "    print(\"x is not None :( \")\n"
   ]
  },
  {
   "cell_type": "code",
   "execution_count": null,
   "metadata": {},
   "outputs": [],
   "source": [
    "# Thank you so much for purchasing my book! Feel free to contact me at cory[at]theselftaughtprogrammer.io.\n",
    "# If you are enjoying it, please consider leaving a review on Amazon :). Keep up the hard work!\n",
    "\n",
    "\n",
    "class Card:\n",
    "    suits = [\"spades\",\n",
    "             \"hearts\",\n",
    "             \"diamonds\",\n",
    "             \"clubs\"]\n",
    "    \n",
    "    values = [None, None,\"2\", \"3\",\n",
    "              \"4\", \"5\", \"6\", \"7\",\n",
    "              \"8\", \"9\", \"10\",\n",
    "              \"Jack\", \"Queen\",\n",
    "              \"King\", \"Ace\"]\n",
    "\n",
    "    def __init__(self, v, s):\n",
    "        \"\"\"suit + value are ints\"\"\"\n",
    "        self.value = v\n",
    "        self.suit = s\n",
    "\n",
    "    def __lt__(self, c2):\n",
    "        if self.value < c2.value:\n",
    "            return True\n",
    "        if self.value == c2.value:\n",
    "            if self.suit < c2.suit:\n",
    "                return True\n",
    "            else:\n",
    "                return False\n",
    "        return False\n",
    "\n",
    "    def __gt__(self, c2):\n",
    "        if self.value > c2.value:\n",
    "            return True\n",
    "        if self.value == c2.value:\n",
    "            if self.suit > c2.suit:\n",
    "                return True\n",
    "            else:\n",
    "                return False\n",
    "        return False\n",
    "\n",
    "    def __repr__(self):\n",
    "        v = self.values[self.value] +\\\n",
    "            \" of \" + \\\n",
    "            self.suits[self.suit]\n",
    "        return v\n"
   ]
  },
  {
   "cell_type": "code",
   "execution_count": null,
   "metadata": {},
   "outputs": [
    {
     "name": "stdout",
     "output_type": "stream",
     "text": [
      "True\n"
     ]
    }
   ],
   "source": [
    "\n",
    "card1 = Card(10, 2)\n",
    "card2 = Card(11, 3)\n",
    "print(card1 < card2)\n"
   ]
  },
  {
   "cell_type": "code",
   "execution_count": null,
   "metadata": {},
   "outputs": [
    {
     "name": "stdout",
     "output_type": "stream",
     "text": [
      "False\n"
     ]
    }
   ],
   "source": [
    "\n",
    "card1 = Card(10, 2)\n",
    "card2 = Card(11, 3)\n",
    "print(card1 > card2)\n"
   ]
  },
  {
   "cell_type": "code",
   "execution_count": null,
   "metadata": {},
   "outputs": [
    {
     "name": "stdout",
     "output_type": "stream",
     "text": [
      "3 of diamonds\n"
     ]
    }
   ],
   "source": [
    "\n",
    "card = Card(3, 2)\n",
    "print(card)\n"
   ]
  },
  {
   "cell_type": "code",
   "execution_count": null,
   "metadata": {},
   "outputs": [],
   "source": [
    "# Thanks so much for reading my book. Feel free to contact me at cory[at]theselftaughtprogrammer.io.\n",
    "\n",
    "\n",
    "from random import shuffle\n",
    "\n",
    "\n",
    "class Deck:\n",
    "    def __init__(self):\n",
    "        self.cards = []\n",
    "        for i in range(2, 15):\n",
    "            for j in range(4):\n",
    "                self.cards\\\n",
    "                    .append(Card(i,\n",
    "                                 j))\n",
    "        shuffle(self.cards)\n",
    "\n",
    "    def rm_card(self):\n",
    "        if len(self.cards) == 0:\n",
    "            return\n",
    "        return self.cards.pop()\n"
   ]
  },
  {
   "cell_type": "code",
   "execution_count": null,
   "metadata": {},
   "outputs": [
    {
     "name": "stdout",
     "output_type": "stream",
     "text": [
      "9 of hearts\n",
      "Jack of hearts\n",
      "10 of diamonds\n",
      "3 of hearts\n",
      "3 of spades\n",
      "Queen of clubs\n",
      "7 of hearts\n",
      "Ace of diamonds\n",
      "2 of spades\n",
      "Jack of spades\n",
      "7 of clubs\n",
      "Ace of clubs\n",
      "6 of clubs\n",
      "4 of diamonds\n",
      "Queen of spades\n",
      "2 of clubs\n",
      "Queen of diamonds\n",
      "King of clubs\n",
      "6 of spades\n",
      "9 of diamonds\n",
      "5 of spades\n",
      "Queen of hearts\n",
      "10 of spades\n",
      "2 of hearts\n",
      "Ace of spades\n",
      "9 of spades\n",
      "9 of clubs\n",
      "2 of diamonds\n",
      "7 of spades\n",
      "Jack of clubs\n",
      "3 of clubs\n",
      "10 of hearts\n",
      "8 of diamonds\n",
      "3 of diamonds\n",
      "6 of diamonds\n",
      "8 of spades\n",
      "4 of clubs\n",
      "King of diamonds\n",
      "8 of hearts\n",
      "4 of spades\n",
      "Jack of diamonds\n",
      "5 of hearts\n",
      "5 of clubs\n",
      "8 of clubs\n",
      "Ace of hearts\n",
      "10 of clubs\n",
      "6 of hearts\n",
      "5 of diamonds\n",
      "King of spades\n",
      "7 of diamonds\n",
      "4 of hearts\n",
      "King of hearts\n"
     ]
    }
   ],
   "source": [
    "\n",
    "deck = Deck()\n",
    "for card in deck.cards:\n",
    "   print(card)\n"
   ]
  },
  {
   "cell_type": "code",
   "execution_count": null,
   "metadata": {},
   "outputs": [],
   "source": [
    "\n",
    "class Player:\n",
    "   def __init__(self, name):\n",
    "       self.wins = 0\n",
    "       self.card = None\n",
    "       self.name = name\n"
   ]
  },
  {
   "cell_type": "code",
   "execution_count": null,
   "metadata": {},
   "outputs": [],
   "source": [
    "# Thank you so much for purchasing my book! Feel free to contact me at cory[at]theselftaughtprogrammer.io.\n",
    "# If you are enjoying it, please consider leaving a review on Amazon :). Keep up the hard work!\n",
    "\n",
    "\n",
    "class Game:\n",
    "    def __init__(self):\n",
    "        name1 = input(\"p1 name \")\n",
    "        name2 = input(\"p2 name \")\n",
    "        self.deck = Deck()\n",
    "        self.p1 = Player(name1)\n",
    "        self.p2 = Player(name2)\n",
    "\n",
    "    def wins(self, winner):\n",
    "        w = \"{} wins this round\"\n",
    "        w = w.format(winner)\n",
    "        print(w)\n",
    "\n",
    "    def draw(self, p1n, p1c, p2n, p2c):\n",
    "        d = \"{} drew {} {} drew {}\"\n",
    "        d = d.format(p1n,\n",
    "                     p1c,\n",
    "                     p2n,\n",
    "                     p2c)\n",
    "        print(d)\n",
    "\n",
    "    def play_game(self):\n",
    "        cards = self.deck.cards\n",
    "        print(\"beginning War!\")\n",
    "        while len(cards) >= 2:\n",
    "            m = \"q to quit. Any \" + \\\n",
    "                \"key to play:\"\n",
    "            response = input(m)\n",
    "            if response == 'q':\n",
    "                break\n",
    "            p1c = self.deck.rm_card()\n",
    "            p2c = self.deck.rm_card()\n",
    "            p1n = self.p1.name\n",
    "            p2n = self.p2.name\n",
    "            self.draw(p1n,\n",
    "                      p1c,\n",
    "                      p2n,\n",
    "                      p2c)\n",
    "            if p1c > p2c:\n",
    "                self.p1.wins += 1\n",
    "                self.wins(self.p1.name)\n",
    "            else:\n",
    "                self.p2.wins += 1\n",
    "                self.wins(self.p2.name)\n",
    "\n",
    "        win = self.winner(self.p1,\n",
    "                         self.p2)\n",
    "        print(\"War is over.{} wins\"\n",
    "              .format(win))\n",
    "\n",
    "    def winner(self, p1, p2):\n",
    "        if p1.wins > p2.wins:\n",
    "            return p1.name\n",
    "        if p1.wins < p2.wins:\n",
    "            return p2.name\n",
    "        return \"It was a tie!\"\n"
   ]
  },
  {
   "cell_type": "code",
   "execution_count": null,
   "metadata": {},
   "outputs": [],
   "source": [
    "# Thanks so much for reading my book. Feel free to contact me at cory[at]theselftaughtprogrammer.io.\n",
    "\n",
    "\n",
    "from random import shuffle\n",
    "\n",
    "\n",
    "class Card:\n",
    "    suits = [\"spades\",\n",
    "             \"hearts\",\n",
    "             \"diamonds\",\n",
    "             \"clubs\"]\n",
    "\n",
    "    values = [None, None,\"2\", \"3\",\n",
    "              \"4\", \"5\", \"6\", \"7\",\n",
    "              \"8\", \"9\", \"10\",\n",
    "              \"Jack\", \"Queen\",\n",
    "              \"King\", \"Ace\"]\n",
    "\n",
    "    def __init__(self, v, s):\n",
    "        \"\"\"suit + value are ints\"\"\"\n",
    "        self.value = v\n",
    "        self.suit = s\n",
    "\n",
    "    def __lt__(self, c2):\n",
    "        if self.value < c2.value:\n",
    "            return True\n",
    "        if self.value == c2.value:\n",
    "            if self.suit < c2.suit:\n",
    "                return True\n",
    "            else:\n",
    "                return False\n",
    "        return False\n",
    "\n",
    "    def __gt__(self, c2):\n",
    "        if self.value > c2.value:\n",
    "            return True\n",
    "        if self.value == c2.value:\n",
    "            if self.suit > c2.suit:\n",
    "                return True\n",
    "            else:\n",
    "                return False\n",
    "        return False\n",
    "\n",
    "    def __repr__(self):\n",
    "        v = self.values[self.value] +\\\n",
    "            \" of \" + \\\n",
    "            self.suits[self.suit]\n",
    "        return v\n",
    "\n",
    "\n",
    "class Deck:\n",
    "    def __init__(self):\n",
    "        self.cards = []\n",
    "        for i in range(2, 15):\n",
    "            for j in range(4):\n",
    "                self.cards\\\n",
    "                    .append(Card(i,\n",
    "                                 j))\n",
    "        shuffle(self.cards)\n",
    "\n",
    "    def rm_card(self):\n",
    "        if len(self.cards) == 0:\n",
    "            return\n",
    "        return self.cards.pop()\n",
    "\n",
    "\n",
    "class Player:\n",
    "    def __init__(self, name):\n",
    "        self.wins = 0\n",
    "        self.card = None\n",
    "        self.name = name\n",
    "\n",
    "\n",
    "class Game:\n",
    "    def __init__(self):\n",
    "        name1 = input(\"p1 name \")\n",
    "        name2 = input(\"p2 name \")\n",
    "        self.deck = Deck()\n",
    "        self.p1 = Player(name1)\n",
    "        self.p2 = Player(name2)\n",
    "\n",
    "    def wins(self, winner):\n",
    "        w = \"{} wins this round\"\n",
    "        w = w.format(winner)\n",
    "        print(w)\n",
    "\n",
    "    def draw(self, p1n, p1c, p2n, p2c):\n",
    "        d = \"{} drew {} {} drew {}\"\n",
    "        d = d.format(p1n,\n",
    "                     p1c,\n",
    "                     p2n,\n",
    "                     p2c)\n",
    "        print(d)\n",
    "\n",
    "    def play_game(self):\n",
    "        cards = self.deck.cards\n",
    "        print(\"beginning War!\")\n",
    "        while len(cards) >= 2:\n",
    "            m = \"q to quit. Any \" + \\\n",
    "                \"key to play:\"\n",
    "            response = input(m)\n",
    "            if response == 'q':\n",
    "                break\n",
    "            p1c = self.deck.rm_card()\n",
    "            p2c = self.deck.rm_card()\n",
    "            p1n = self.p1.name\n",
    "            p2n = self.p2.name\n",
    "            self.draw(p1n,\n",
    "                      p1c,\n",
    "                      p2n,\n",
    "                      p2c)\n",
    "            if p1c > p2c:\n",
    "                self.p1.wins += 1\n",
    "                self.wins(self.p1.name)\n",
    "            else:\n",
    "                self.p2.wins += 1\n",
    "                self.wins(self.p2.name)\n",
    "\n",
    "        win = self.winner(self.p1,\n",
    "                         self.p2)\n",
    "        print(\"War is over.{} wins\"\n",
    "              .format(win))\n",
    "\n",
    "    def winner(self, p1, p2):\n",
    "        if p1.wins > p2.wins:\n",
    "            return p1.name\n",
    "        if p1.wins < p2.wins:\n",
    "            return p2.name\n",
    "        return \"It was a tie!\"\n",
    "\n",
    "game = Game()\n",
    "game.play_game()\n"
   ]
  },
  {
   "cell_type": "code",
   "execution_count": 1,
   "metadata": {},
   "outputs": [
    {
     "name": "stdout",
     "output_type": "stream",
     "text": [
      "['Beautiful']\n"
     ]
    }
   ],
   "source": [
    "\n",
    "# http://tinyurl.com/jg86ndz\n",
    "\n",
    "\n",
    "import re\n",
    "\n",
    "\n",
    "line = \"Beautiful is better than ugly.\"\n",
    "\n",
    "\n",
    "matches = re.findall(\"beautiful\", line, re.IGNORECASE)\n",
    "\n",
    "\n",
    "print(matches)\n"
   ]
  },
  {
   "cell_type": "code",
   "execution_count": 2,
   "metadata": {},
   "outputs": [
    {
     "name": "stdout",
     "output_type": "stream",
     "text": [
      "['If', 'If']\n"
     ]
    }
   ],
   "source": [
    "import re\n",
    "\n",
    "zen = \"\"\"Although never is\n",
    "often better than\n",
    "*right* now.\n",
    "If the implementation\n",
    "is hard to explain,\n",
    "it's a bad idea.\n",
    "If the implementation\n",
    "is easy to explain,\n",
    "it may be a good\n",
    "idea. Namespaces\n",
    "are one honking\n",
    "great idea -- let's\n",
    "do more of those!\n",
    "\"\"\"\n",
    "\n",
    "m = re.findall(\"^If\",\n",
    "               zen,\n",
    "               re.MULTILINE)\n",
    "print(m)\n"
   ]
  },
  {
   "cell_type": "code",
   "execution_count": 3,
   "metadata": {},
   "outputs": [
    {
     "name": "stdout",
     "output_type": "stream",
     "text": [
      "['1', '2', '3', '3', '4']\n"
     ]
    }
   ],
   "source": [
    "import re\n",
    "\n",
    "\n",
    "line = \"123?34 hello?\"\n",
    "\n",
    "\n",
    "m = re.findall(\"\\d\",\n",
    "               line,\n",
    "               re.IGNORECASE)\n",
    "\n",
    "print(m)\n"
   ]
  },
  {
   "cell_type": "code",
   "execution_count": 4,
   "metadata": {},
   "outputs": [
    {
     "name": "stdout",
     "output_type": "stream",
     "text": [
      "__one__\n",
      "__two__\n",
      "__three__\n"
     ]
    }
   ],
   "source": [
    "# Thank you so much for purchasing my book! Feel free to contact me at cory[at]theselftaughtprogrammer.io.\n",
    "# If you are enjoying it, please consider leaving a review on Amazon :). Keep up the hard work!\n",
    "\n",
    "\n",
    "\n",
    "import re\n",
    "\n",
    "\n",
    "t = \"__one__ __two__ __three__\"\n",
    "\n",
    "\n",
    "results = re.findall(\"__.*?__\", t)\n",
    "\n",
    "\n",
    "for match in results:\n",
    "    print(match)\n"
   ]
  },
  {
   "cell_type": "code",
   "execution_count": null,
   "metadata": {},
   "outputs": [],
   "source": [
    "import re\n",
    "\n",
    "\n",
    "text = \"\"\"Giraffes have aroused\n",
    " the curiosity of __PLURAL_NOUN__\n",
    " since earliest times. The\n",
    " giraffe is the tallest of all\n",
    " living __PLURAL_NOUN__, but\n",
    " scientists are unable to\n",
    " explain how it got its long\n",
    " __PART_OF_THE_BODY__. The\n",
    " giraffe's tremendous height,\n",
    " which might reach __NUMBER__\n",
    " __PLURAL_NOUN__, comes from\n",
    " it legs and __BODYPART__.\n",
    "\"\"\"\n",
    "\n",
    "\n",
    "def mad_libs(mls):\n",
    "    \"\"\"\n",
    "    :param mls: String\n",
    "    with parts the user\n",
    "    should fill out surrounded\n",
    "    by double underscores.\n",
    "    Underscores cannot\n",
    "    be inside hint e.g., no\n",
    "    __hint_hint__ only\n",
    "    __hint__.\n",
    "    \"\"\"\n",
    "    hints = re.findall(\"__.*?__\",\n",
    "                      mls)\n",
    "    if hints is not None:\n",
    "        for word in hints:\n",
    "            q = \"Enter a {}\"\\\n",
    "                   .format(word)\n",
    "            new = input(q)\n",
    "            mls = mls.replace(word,\n",
    "                              new,\n",
    "                              1)\n",
    "        print('\\n')\n",
    "        mls = mls.replace(\"\\n\", \"\")\n",
    "        print(mls)\n",
    "    else:\n",
    "        print(\"invalid mls\")\n",
    "\n",
    "mad_libs(text)\n"
   ]
  },
  {
   "cell_type": "code",
   "execution_count": 1,
   "metadata": {},
   "outputs": [
    {
     "name": "stdout",
     "output_type": "stream",
     "text": [
      "['$']\n"
     ]
    }
   ],
   "source": [
    "import re\n",
    "\n",
    "\n",
    "line = \"I love $\"\n",
    "\n",
    "\n",
    "m = re.findall(\"\\\\$\",\n",
    "               line,\n",
    "               re.IGNORECASE)\n",
    "\n",
    "print(m)\n"
   ]
  },
  {
   "cell_type": "code",
   "execution_count": null,
   "metadata": {},
   "outputs": [
    {
     "name": "stdout",
     "output_type": "stream",
     "text": [
      " * Serving Flask app \"__main__\" (lazy loading)\n",
      " * Environment: production\n",
      "   WARNING: Do not use the development server in a production environment.\n",
      "   Use a production WSGI server instead.\n",
      " * Debug mode: off\n"
     ]
    },
    {
     "name": "stderr",
     "output_type": "stream",
     "text": [
      " * Running on http://127.0.0.1:8000/ (Press CTRL+C to quit)\n"
     ]
    }
   ],
   "source": [
    "from flask import Flask\n",
    "\n",
    "\n",
    "app = Flask(__name__)\n",
    "\n",
    "\n",
    "@app.route('/')\n",
    "def index():\n",
    "    return \"Hello, World!\"\n",
    "\n",
    "\n",
    "app.run(port='8000')\n"
   ]
  },
  {
   "cell_type": "code",
   "execution_count": 1,
   "metadata": {},
   "outputs": [],
   "source": [
    "\n",
    "# http://tinyurl.com/ztysa6b\n",
    "\n",
    "\n",
    "import urllib.request\n",
    "from bs4 import BeautifulSoup\n"
   ]
  },
  {
   "cell_type": "code",
   "execution_count": 2,
   "metadata": {},
   "outputs": [],
   "source": [
    "\n",
    "class Scraper:\n",
    "    def __init__(self,\n",
    "                 site):\n",
    "        self.site = site\n",
    "\n",
    "    def scrape(self):\n",
    "        pass\n"
   ]
  },
  {
   "cell_type": "code",
   "execution_count": 3,
   "metadata": {},
   "outputs": [],
   "source": [
    "def scrape(self):\n",
    "    r = urllib.request\\\n",
    "        .urlopen(self.site)\n",
    "    html = r.read()"
   ]
  },
  {
   "cell_type": "code",
   "execution_count": 4,
   "metadata": {},
   "outputs": [],
   "source": [
    "# Thank you so much for purchasing my book! Feel free to contact me at cory[at]theselftaughtprogrammer.io.\n",
    "# If you are enjoying it, please consider leaving a review on Amazon :). Keep up the hard work!\n",
    "\n",
    "\n",
    "\n",
    "def scrape(self):\n",
    "    r = urllib.request\\\n",
    "        .urlopen(self.site)\n",
    "    html = r.read()\n",
    "    parser = \"html.parser\"\n",
    "    sp = BeautifulSoup(html,\n",
    "                       parser)\n",
    "\n"
   ]
  },
  {
   "cell_type": "code",
   "execution_count": 5,
   "metadata": {},
   "outputs": [],
   "source": [
    "# Thanks so much for reading my book. Feel free to contact me at cory[at]theselftaughtprogrammer.io.\n",
    "\n",
    "\n",
    "def scrape(self):\n",
    "    r = urllib.request\\\n",
    "        .urlopen(self.site)\n",
    "    html = r.read()\n",
    "    parser = \"html.parser\"\n",
    "    sp = BeautifulSoup(html,\n",
    "                       parser)\n",
    "    for tag in sp.find_all(\"a\"):\n",
    "        url = tag.get(\"href\")\n",
    "        if url is None:\n",
    "            continue\n",
    "        if \"html\" in url:\n",
    "            print(\"\\n\" + url)\n"
   ]
  },
  {
   "cell_type": "code",
   "execution_count": 6,
   "metadata": {},
   "outputs": [],
   "source": [
    "# Thanks so much for reading my book. Feel free to contact me at cory[at]theselftaughtprogrammer.io.\n",
    "\n",
    "\n",
    "import urllib.request\n",
    "from bs4 import BeautifulSoup\n",
    "\n",
    "\n",
    "class Scraper:\n",
    "    def __init__(self, site):\n",
    "        self.site = site\n",
    "\n",
    "    def scrape(self):\n",
    "        r = urllib.request\\\n",
    "            .urlopen(self.site)\n",
    "        html = r.read()\n",
    "        parser = \"html.parser\"\n",
    "        sp = BeautifulSoup(html,\n",
    "                           parser)\n",
    "        for tag in sp.find_all(\"a\"):\n",
    "            url = tag.get(\"href\")\n",
    "            if url is None:\n",
    "                continue\n",
    "            if \"html\" in url:\n",
    "                print(\"\\n\" + url)\n",
    "\n",
    "news = \"https://news.google.com/\"\n",
    "Scraper(news).scrape()\n",
    "\n"
   ]
  },
  {
   "cell_type": "code",
   "execution_count": 7,
   "metadata": {},
   "outputs": [],
   "source": [
    "# Thanks so much for reading my book. Feel free to contact me at cory[at]theselftaughtprogrammer.io.\n",
    "\n",
    "\n",
    "class Stack:\n",
    "    def __init__(self):\n",
    "        self.items = []\n",
    "\n",
    "    def is_empty(self):\n",
    "        return self.items == []\n",
    "\n",
    "    def push(self, item):\n",
    "        self.items.append(item)\n",
    "\n",
    "    def pop(self):\n",
    "        return self.items.pop()\n",
    "\n",
    "    def peek(self):\n",
    "        last = len(self.items)-1\n",
    "        return self.items[last]\n",
    "\n",
    "    def size(self):\n",
    "        return len(self.items)\n"
   ]
  },
  {
   "cell_type": "code",
   "execution_count": 8,
   "metadata": {},
   "outputs": [
    {
     "name": "stdout",
     "output_type": "stream",
     "text": [
      "True\n"
     ]
    }
   ],
   "source": [
    "\n",
    "stack = Stack()\n",
    "print(stack.is_empty())\n"
   ]
  },
  {
   "cell_type": "code",
   "execution_count": 9,
   "metadata": {},
   "outputs": [
    {
     "name": "stdout",
     "output_type": "stream",
     "text": [
      "False\n"
     ]
    }
   ],
   "source": [
    "stack = Stack()\n",
    "stack.push(1)\n",
    "print(stack.is_empty())\n"
   ]
  },
  {
   "cell_type": "code",
   "execution_count": 10,
   "metadata": {},
   "outputs": [
    {
     "name": "stdout",
     "output_type": "stream",
     "text": [
      "1\n",
      "True\n"
     ]
    }
   ],
   "source": [
    "\n",
    "stack = Stack()\n",
    "stack.push(1)\n",
    "item = stack.pop()\n",
    "print(item)\n",
    "print(stack.is_empty())\n"
   ]
  },
  {
   "cell_type": "code",
   "execution_count": 11,
   "metadata": {},
   "outputs": [
    {
     "name": "stdout",
     "output_type": "stream",
     "text": [
      "5\n",
      "6\n"
     ]
    }
   ],
   "source": [
    "\n",
    "stack = Stack()\n",
    "\n",
    "\n",
    "for i in range(0, 6):\n",
    "    stack.push(i)\n",
    "\n",
    "\n",
    "print(stack.peek())\n",
    "print(stack.size())\n"
   ]
  },
  {
   "cell_type": "code",
   "execution_count": 12,
   "metadata": {},
   "outputs": [
    {
     "name": "stdout",
     "output_type": "stream",
     "text": [
      "olleH\n"
     ]
    }
   ],
   "source": [
    "# Thank you so much for purchasing my book! Feel free to contact me at cory[at]theselftaughtprogrammer.io.\n",
    "# If you are enjoying it, please consider leaving a review on Amazon :). https://www.amazon.com/dp/B01M01YDQA#customerReviews. Keep up the hard work!\n",
    "\n",
    "\n",
    "class Stack:\n",
    "    def __init__(self):\n",
    "        self.items = []\n",
    "\n",
    "    def is_empty(self):\n",
    "        return self.items == []\n",
    "\n",
    "    def push(self, item):\n",
    "        self.items.append(item)\n",
    "\n",
    "    def pop(self):\n",
    "        return self.items.pop()\n",
    "\n",
    "    def peek(self):\n",
    "        last = len(self.items)-1\n",
    "        return self.items[last]\n",
    "\n",
    "    def size(self):\n",
    "        return len(self.items)\n",
    "\n",
    "\n",
    "stack = Stack()\n",
    "for c in \"Hello\":\n",
    "    stack.push(c)\n",
    "\n",
    "\n",
    "reversed_string = \"\"\n",
    "\n",
    "\n",
    "for i in range(len(stack.items)):\n",
    "    reversed_string += stack.pop()\n",
    "\n",
    "\n",
    "print(reversed_string)\n"
   ]
  },
  {
   "cell_type": "code",
   "execution_count": 13,
   "metadata": {},
   "outputs": [],
   "source": [
    "\n",
    "class Queue:\n",
    "   def __init__(self):\n",
    "       self.items = []\n",
    "\n",
    "\n",
    "   def is_empty(self):\n",
    "       return self.items == []\n",
    "\n",
    "\n",
    "   def enqueue(self, item):\n",
    "       self.items.insert(0, item)\n",
    "\n",
    "\n",
    "   def dequeue(self):\n",
    "       return self.items.pop()\n",
    "\n",
    "\n",
    "   def size(self):\n",
    "       return len(self.items)\n"
   ]
  },
  {
   "cell_type": "code",
   "execution_count": 14,
   "metadata": {},
   "outputs": [
    {
     "name": "stdout",
     "output_type": "stream",
     "text": [
      "True\n"
     ]
    }
   ],
   "source": [
    "\n",
    "a_queue = Queue()\n",
    "print(a_queue.is_empty())\n"
   ]
  },
  {
   "cell_type": "code",
   "execution_count": 15,
   "metadata": {},
   "outputs": [
    {
     "name": "stdout",
     "output_type": "stream",
     "text": [
      "5\n"
     ]
    }
   ],
   "source": [
    "a_queue = Queue()\n",
    "\n",
    "for i in range(5):\n",
    "    a_queue.enqueue(i)\n",
    "\n",
    "\n",
    "print(a_queue.size())\n"
   ]
  },
  {
   "cell_type": "code",
   "execution_count": 16,
   "metadata": {},
   "outputs": [
    {
     "name": "stdout",
     "output_type": "stream",
     "text": [
      "0\n",
      "1\n",
      "2\n",
      "3\n",
      "4\n",
      "\n",
      "0\n"
     ]
    }
   ],
   "source": [
    "\n",
    "a_queue = Queue()\n",
    "\n",
    "\n",
    "for i in range(5):\n",
    "    a_queue.enqueue(i)\n",
    "\n",
    "\n",
    "for i in range(5):\n",
    "    print(a_queue.dequeue())\n",
    "\n",
    "\n",
    "print()\n",
    "\n",
    "\n",
    "print(a_queue.size())\n"
   ]
  },
  {
   "cell_type": "code",
   "execution_count": 17,
   "metadata": {},
   "outputs": [
    {
     "name": "stdout",
     "output_type": "stream",
     "text": [
      "person0\n",
      "person1\n",
      "person2\n",
      "person3\n",
      "person4\n",
      "person5\n",
      "person6\n",
      "person7\n",
      "person8\n",
      "['person0', 'person1', 'person2', 'person3', 'person4', 'person5', 'person6', 'person7', 'person8']\n"
     ]
    }
   ],
   "source": [
    "# Thank you so much for purchasing my book! Feel free to contact me at cory[at]theselftaughtprogrammer.io.\n",
    "# If you are enjoying it, please consider leaving a review on Amazon :). https://www.amazon.com/dp/B01M01YDQA#customerReviews. Keep up the hard work!\n",
    "\n",
    "\n",
    "import time\n",
    "import random\n",
    "\n",
    "\n",
    "class Queue:\n",
    "    def __init__(self):\n",
    "        self.items = []\n",
    "\n",
    "    def is_empty(self):\n",
    "        return self.items == []\n",
    "\n",
    "    def enqueue(self, item):\n",
    "        self.items.insert(0, item)\n",
    "\n",
    "    def dequeue(self):\n",
    "        return self.items.pop()\n",
    "\n",
    "    def size(self):\n",
    "        return len(self.items)\n",
    "\n",
    "    def simulate_line(self,\n",
    "                      till_show,\n",
    "                      max_time):\n",
    "        pq = Queue()\n",
    "        tix_sold = []\n",
    "\n",
    "        for i in range(10):\n",
    "            pq.enqueue(\"person\"\n",
    "                       + str(i))\n",
    "\n",
    "        t_end = time.time()\\\n",
    "                + till_show\n",
    "        now = time.time()\n",
    "        while now < t_end \\\n",
    "        and not pq.is_empty():\n",
    "            now = time.time()\n",
    "            r = random.\\\n",
    "                randint(0,\n",
    "                        max_time)\n",
    "            time.sleep(r)\n",
    "            person = pq.dequeue()\n",
    "            print(person)\n",
    "            tix_sold.append(person)\n",
    "\n",
    "        return tix_sold\n",
    "\n",
    "queue = Queue()\n",
    "sold = queue.simulate_line(5, 1)\n",
    "print(sold)\n"
   ]
  },
  {
   "cell_type": "code",
   "execution_count": 18,
   "metadata": {},
   "outputs": [
    {
     "name": "stdout",
     "output_type": "stream",
     "text": [
      "1\n",
      "2\n",
      "Fizz\n",
      "4\n",
      "Buzz\n",
      "Fizz\n",
      "7\n",
      "8\n",
      "Fizz\n",
      "Buzz\n",
      "11\n",
      "Fizz\n",
      "13\n",
      "14\n",
      "FizzBuzz\n",
      "16\n",
      "17\n",
      "Fizz\n",
      "19\n",
      "Buzz\n",
      "Fizz\n",
      "22\n",
      "23\n",
      "Fizz\n",
      "Buzz\n",
      "26\n",
      "Fizz\n",
      "28\n",
      "29\n",
      "FizzBuzz\n",
      "31\n",
      "32\n",
      "Fizz\n",
      "34\n",
      "Buzz\n",
      "Fizz\n",
      "37\n",
      "38\n",
      "Fizz\n",
      "Buzz\n",
      "41\n",
      "Fizz\n",
      "43\n",
      "44\n",
      "FizzBuzz\n",
      "46\n",
      "47\n",
      "Fizz\n",
      "49\n",
      "Buzz\n",
      "Fizz\n",
      "52\n",
      "53\n",
      "Fizz\n",
      "Buzz\n",
      "56\n",
      "Fizz\n",
      "58\n",
      "59\n",
      "FizzBuzz\n",
      "61\n",
      "62\n",
      "Fizz\n",
      "64\n",
      "Buzz\n",
      "Fizz\n",
      "67\n",
      "68\n",
      "Fizz\n",
      "Buzz\n",
      "71\n",
      "Fizz\n",
      "73\n",
      "74\n",
      "FizzBuzz\n",
      "76\n",
      "77\n",
      "Fizz\n",
      "79\n",
      "Buzz\n",
      "Fizz\n",
      "82\n",
      "83\n",
      "Fizz\n",
      "Buzz\n",
      "86\n",
      "Fizz\n",
      "88\n",
      "89\n",
      "FizzBuzz\n",
      "91\n",
      "92\n",
      "Fizz\n",
      "94\n",
      "Buzz\n",
      "Fizz\n",
      "97\n",
      "98\n",
      "Fizz\n",
      "Buzz\n"
     ]
    }
   ],
   "source": [
    "# Thank you so much for purchasing my book! Feel free to contact me at cory[at]theselftaughtprogrammer.io.\n",
    "# If you are enjoying it, please consider leaving a review on Amazon :). https://www.amazon.com/dp/B01M01YDQA#customerReviews. Keep up the hard work!\n",
    "\n",
    "def fizz_buzz():\n",
    "    for i in range(1, 101):\n",
    "        if i % 3 == 0 and i % 5 == 0:\n",
    "            print(\"FizzBuzz\")\n",
    "        elif i % 3 == 0:\n",
    "            print(\"Fizz\")\n",
    "        elif i % 5 == 0:\n",
    "            print(\"Buzz\")\n",
    "        else:\n",
    "            print(i)\n",
    "\n",
    "fizz_buzz()\n"
   ]
  },
  {
   "cell_type": "code",
   "execution_count": 19,
   "metadata": {},
   "outputs": [
    {
     "name": "stdout",
     "output_type": "stream",
     "text": [
      "True\n",
      "False\n"
     ]
    }
   ],
   "source": [
    "# Thanks so much for reading my book. Feel free to contact me at cory[at]theselftaughtprogrammer.io.\n",
    "\n",
    "\n",
    "def ss(number_list, n):\n",
    "    found = False\n",
    "    for i in number_list:\n",
    "        if i == n:\n",
    "            found = True\n",
    "            break\n",
    "    return found\n",
    "\n",
    "numbers = range(0, 100)\n",
    "s1 = ss(numbers, 2)\n",
    "print(s1)\n",
    "s2 = ss(numbers, 202)\n",
    "print(s2)\n"
   ]
  },
  {
   "cell_type": "code",
   "execution_count": 20,
   "metadata": {},
   "outputs": [
    {
     "name": "stdout",
     "output_type": "stream",
     "text": [
      "False\n",
      "True\n"
     ]
    }
   ],
   "source": [
    "\n",
    "def is_palindrome(word):\n",
    "    word = word.lower()\n",
    "    return word[::-1] == word\n",
    "\n",
    "\n",
    "print(is_palindrome(\"Mother\"))\n",
    "print(is_palindrome(\"Mom\"))\n"
   ]
  },
  {
   "cell_type": "code",
   "execution_count": 21,
   "metadata": {},
   "outputs": [
    {
     "name": "stdout",
     "output_type": "stream",
     "text": [
      "True\n",
      "False\n"
     ]
    }
   ],
   "source": [
    "\n",
    "def is_anagram(w1, w2):\n",
    "    w1 = w1.lower()\n",
    "    w2 = w2.lower()\n",
    "    return sorted(w1) == sorted(w2)\n",
    "\n",
    "\n",
    "print(is_anagram(\"iceman\", \"cinema\"))\n",
    "print(is_anagram(\"leaf\", \"tree\"))\n"
   ]
  },
  {
   "cell_type": "code",
   "execution_count": 22,
   "metadata": {},
   "outputs": [
    {
     "name": "stdout",
     "output_type": "stream",
     "text": [
      "{'D': 1, 'y': 2, 'n': 1, 'a': 1, 's': 1, 't': 1}\n"
     ]
    }
   ],
   "source": [
    "\n",
    "def count_characters(string):\n",
    "    count_dict = {}\n",
    "    for c in string:\n",
    "        if c in count_dict:\n",
    "            count_dict[c] += 1\n",
    "        else:\n",
    "            count_dict[c] = 1\n",
    "    print(count_dict)\n",
    "\n",
    "\n",
    "count_characters(\"Dynasty\")\n"
   ]
  },
  {
   "cell_type": "code",
   "execution_count": 23,
   "metadata": {},
   "outputs": [
    {
     "name": "stdout",
     "output_type": "stream",
     "text": [
      "99 bottles of \n",
      "             beer on the \n",
      "             wall. 99 bottles\n",
      "             of beer. Take one \n",
      "             down, pass it \n",
      "             around, 98 bottles \n",
      "             of beer on the \n",
      "             wall.\n",
      "          \n",
      "98 bottles of \n",
      "             beer on the \n",
      "             wall. 98 bottles\n",
      "             of beer. Take one \n",
      "             down, pass it \n",
      "             around, 97 bottles \n",
      "             of beer on the \n",
      "             wall.\n",
      "          \n",
      "97 bottles of \n",
      "             beer on the \n",
      "             wall. 97 bottles\n",
      "             of beer. Take one \n",
      "             down, pass it \n",
      "             around, 96 bottles \n",
      "             of beer on the \n",
      "             wall.\n",
      "          \n",
      "96 bottles of \n",
      "             beer on the \n",
      "             wall. 96 bottles\n",
      "             of beer. Take one \n",
      "             down, pass it \n",
      "             around, 95 bottles \n",
      "             of beer on the \n",
      "             wall.\n",
      "          \n",
      "95 bottles of \n",
      "             beer on the \n",
      "             wall. 95 bottles\n",
      "             of beer. Take one \n",
      "             down, pass it \n",
      "             around, 94 bottles \n",
      "             of beer on the \n",
      "             wall.\n",
      "          \n",
      "94 bottles of \n",
      "             beer on the \n",
      "             wall. 94 bottles\n",
      "             of beer. Take one \n",
      "             down, pass it \n",
      "             around, 93 bottles \n",
      "             of beer on the \n",
      "             wall.\n",
      "          \n",
      "93 bottles of \n",
      "             beer on the \n",
      "             wall. 93 bottles\n",
      "             of beer. Take one \n",
      "             down, pass it \n",
      "             around, 92 bottles \n",
      "             of beer on the \n",
      "             wall.\n",
      "          \n",
      "92 bottles of \n",
      "             beer on the \n",
      "             wall. 92 bottles\n",
      "             of beer. Take one \n",
      "             down, pass it \n",
      "             around, 91 bottles \n",
      "             of beer on the \n",
      "             wall.\n",
      "          \n",
      "91 bottles of \n",
      "             beer on the \n",
      "             wall. 91 bottles\n",
      "             of beer. Take one \n",
      "             down, pass it \n",
      "             around, 90 bottles \n",
      "             of beer on the \n",
      "             wall.\n",
      "          \n",
      "90 bottles of \n",
      "             beer on the \n",
      "             wall. 90 bottles\n",
      "             of beer. Take one \n",
      "             down, pass it \n",
      "             around, 89 bottles \n",
      "             of beer on the \n",
      "             wall.\n",
      "          \n",
      "89 bottles of \n",
      "             beer on the \n",
      "             wall. 89 bottles\n",
      "             of beer. Take one \n",
      "             down, pass it \n",
      "             around, 88 bottles \n",
      "             of beer on the \n",
      "             wall.\n",
      "          \n",
      "88 bottles of \n",
      "             beer on the \n",
      "             wall. 88 bottles\n",
      "             of beer. Take one \n",
      "             down, pass it \n",
      "             around, 87 bottles \n",
      "             of beer on the \n",
      "             wall.\n",
      "          \n",
      "87 bottles of \n",
      "             beer on the \n",
      "             wall. 87 bottles\n",
      "             of beer. Take one \n",
      "             down, pass it \n",
      "             around, 86 bottles \n",
      "             of beer on the \n",
      "             wall.\n",
      "          \n",
      "86 bottles of \n",
      "             beer on the \n",
      "             wall. 86 bottles\n",
      "             of beer. Take one \n",
      "             down, pass it \n",
      "             around, 85 bottles \n",
      "             of beer on the \n",
      "             wall.\n",
      "          \n",
      "85 bottles of \n",
      "             beer on the \n",
      "             wall. 85 bottles\n",
      "             of beer. Take one \n",
      "             down, pass it \n",
      "             around, 84 bottles \n",
      "             of beer on the \n",
      "             wall.\n",
      "          \n",
      "84 bottles of \n",
      "             beer on the \n",
      "             wall. 84 bottles\n",
      "             of beer. Take one \n",
      "             down, pass it \n",
      "             around, 83 bottles \n",
      "             of beer on the \n",
      "             wall.\n",
      "          \n",
      "83 bottles of \n",
      "             beer on the \n",
      "             wall. 83 bottles\n",
      "             of beer. Take one \n",
      "             down, pass it \n",
      "             around, 82 bottles \n",
      "             of beer on the \n",
      "             wall.\n",
      "          \n",
      "82 bottles of \n",
      "             beer on the \n",
      "             wall. 82 bottles\n",
      "             of beer. Take one \n",
      "             down, pass it \n",
      "             around, 81 bottles \n",
      "             of beer on the \n",
      "             wall.\n",
      "          \n",
      "81 bottles of \n",
      "             beer on the \n",
      "             wall. 81 bottles\n",
      "             of beer. Take one \n",
      "             down, pass it \n",
      "             around, 80 bottles \n",
      "             of beer on the \n",
      "             wall.\n",
      "          \n",
      "80 bottles of \n",
      "             beer on the \n",
      "             wall. 80 bottles\n",
      "             of beer. Take one \n",
      "             down, pass it \n",
      "             around, 79 bottles \n",
      "             of beer on the \n",
      "             wall.\n",
      "          \n",
      "79 bottles of \n",
      "             beer on the \n",
      "             wall. 79 bottles\n",
      "             of beer. Take one \n",
      "             down, pass it \n",
      "             around, 78 bottles \n",
      "             of beer on the \n",
      "             wall.\n",
      "          \n",
      "78 bottles of \n",
      "             beer on the \n",
      "             wall. 78 bottles\n",
      "             of beer. Take one \n",
      "             down, pass it \n",
      "             around, 77 bottles \n",
      "             of beer on the \n",
      "             wall.\n",
      "          \n",
      "77 bottles of \n",
      "             beer on the \n",
      "             wall. 77 bottles\n",
      "             of beer. Take one \n",
      "             down, pass it \n",
      "             around, 76 bottles \n",
      "             of beer on the \n",
      "             wall.\n",
      "          \n",
      "76 bottles of \n",
      "             beer on the \n",
      "             wall. 76 bottles\n",
      "             of beer. Take one \n",
      "             down, pass it \n",
      "             around, 75 bottles \n",
      "             of beer on the \n",
      "             wall.\n",
      "          \n",
      "75 bottles of \n",
      "             beer on the \n",
      "             wall. 75 bottles\n",
      "             of beer. Take one \n",
      "             down, pass it \n",
      "             around, 74 bottles \n",
      "             of beer on the \n",
      "             wall.\n",
      "          \n",
      "74 bottles of \n",
      "             beer on the \n",
      "             wall. 74 bottles\n",
      "             of beer. Take one \n",
      "             down, pass it \n",
      "             around, 73 bottles \n",
      "             of beer on the \n",
      "             wall.\n",
      "          \n",
      "73 bottles of \n",
      "             beer on the \n",
      "             wall. 73 bottles\n",
      "             of beer. Take one \n",
      "             down, pass it \n",
      "             around, 72 bottles \n",
      "             of beer on the \n",
      "             wall.\n",
      "          \n",
      "72 bottles of \n",
      "             beer on the \n",
      "             wall. 72 bottles\n",
      "             of beer. Take one \n",
      "             down, pass it \n",
      "             around, 71 bottles \n",
      "             of beer on the \n",
      "             wall.\n",
      "          \n",
      "71 bottles of \n",
      "             beer on the \n",
      "             wall. 71 bottles\n",
      "             of beer. Take one \n",
      "             down, pass it \n",
      "             around, 70 bottles \n",
      "             of beer on the \n",
      "             wall.\n",
      "          \n",
      "70 bottles of \n",
      "             beer on the \n",
      "             wall. 70 bottles\n",
      "             of beer. Take one \n",
      "             down, pass it \n",
      "             around, 69 bottles \n",
      "             of beer on the \n",
      "             wall.\n",
      "          \n",
      "69 bottles of \n",
      "             beer on the \n",
      "             wall. 69 bottles\n",
      "             of beer. Take one \n",
      "             down, pass it \n",
      "             around, 68 bottles \n",
      "             of beer on the \n",
      "             wall.\n",
      "          \n",
      "68 bottles of \n",
      "             beer on the \n",
      "             wall. 68 bottles\n",
      "             of beer. Take one \n",
      "             down, pass it \n",
      "             around, 67 bottles \n",
      "             of beer on the \n",
      "             wall.\n",
      "          \n",
      "67 bottles of \n",
      "             beer on the \n",
      "             wall. 67 bottles\n",
      "             of beer. Take one \n",
      "             down, pass it \n",
      "             around, 66 bottles \n",
      "             of beer on the \n",
      "             wall.\n",
      "          \n",
      "66 bottles of \n",
      "             beer on the \n",
      "             wall. 66 bottles\n",
      "             of beer. Take one \n",
      "             down, pass it \n",
      "             around, 65 bottles \n",
      "             of beer on the \n",
      "             wall.\n",
      "          \n",
      "65 bottles of \n",
      "             beer on the \n",
      "             wall. 65 bottles\n",
      "             of beer. Take one \n",
      "             down, pass it \n",
      "             around, 64 bottles \n",
      "             of beer on the \n",
      "             wall.\n",
      "          \n",
      "64 bottles of \n",
      "             beer on the \n",
      "             wall. 64 bottles\n",
      "             of beer. Take one \n",
      "             down, pass it \n",
      "             around, 63 bottles \n",
      "             of beer on the \n",
      "             wall.\n",
      "          \n",
      "63 bottles of \n",
      "             beer on the \n",
      "             wall. 63 bottles\n",
      "             of beer. Take one \n",
      "             down, pass it \n",
      "             around, 62 bottles \n",
      "             of beer on the \n",
      "             wall.\n",
      "          \n",
      "62 bottles of \n",
      "             beer on the \n",
      "             wall. 62 bottles\n",
      "             of beer. Take one \n",
      "             down, pass it \n",
      "             around, 61 bottles \n",
      "             of beer on the \n",
      "             wall.\n",
      "          \n",
      "61 bottles of \n",
      "             beer on the \n",
      "             wall. 61 bottles\n",
      "             of beer. Take one \n",
      "             down, pass it \n",
      "             around, 60 bottles \n",
      "             of beer on the \n",
      "             wall.\n",
      "          \n",
      "60 bottles of \n",
      "             beer on the \n",
      "             wall. 60 bottles\n",
      "             of beer. Take one \n",
      "             down, pass it \n",
      "             around, 59 bottles \n",
      "             of beer on the \n",
      "             wall.\n",
      "          \n",
      "59 bottles of \n",
      "             beer on the \n",
      "             wall. 59 bottles\n",
      "             of beer. Take one \n",
      "             down, pass it \n",
      "             around, 58 bottles \n",
      "             of beer on the \n",
      "             wall.\n",
      "          \n",
      "58 bottles of \n",
      "             beer on the \n",
      "             wall. 58 bottles\n",
      "             of beer. Take one \n",
      "             down, pass it \n",
      "             around, 57 bottles \n",
      "             of beer on the \n",
      "             wall.\n",
      "          \n",
      "57 bottles of \n",
      "             beer on the \n",
      "             wall. 57 bottles\n",
      "             of beer. Take one \n",
      "             down, pass it \n",
      "             around, 56 bottles \n",
      "             of beer on the \n",
      "             wall.\n",
      "          \n",
      "56 bottles of \n",
      "             beer on the \n",
      "             wall. 56 bottles\n",
      "             of beer. Take one \n",
      "             down, pass it \n",
      "             around, 55 bottles \n",
      "             of beer on the \n",
      "             wall.\n",
      "          \n",
      "55 bottles of \n",
      "             beer on the \n",
      "             wall. 55 bottles\n",
      "             of beer. Take one \n",
      "             down, pass it \n",
      "             around, 54 bottles \n",
      "             of beer on the \n",
      "             wall.\n",
      "          \n",
      "54 bottles of \n",
      "             beer on the \n",
      "             wall. 54 bottles\n",
      "             of beer. Take one \n",
      "             down, pass it \n",
      "             around, 53 bottles \n",
      "             of beer on the \n",
      "             wall.\n",
      "          \n",
      "53 bottles of \n",
      "             beer on the \n",
      "             wall. 53 bottles\n",
      "             of beer. Take one \n",
      "             down, pass it \n",
      "             around, 52 bottles \n",
      "             of beer on the \n",
      "             wall.\n",
      "          \n",
      "52 bottles of \n",
      "             beer on the \n",
      "             wall. 52 bottles\n",
      "             of beer. Take one \n",
      "             down, pass it \n",
      "             around, 51 bottles \n",
      "             of beer on the \n",
      "             wall.\n",
      "          \n",
      "51 bottles of \n",
      "             beer on the \n",
      "             wall. 51 bottles\n",
      "             of beer. Take one \n",
      "             down, pass it \n",
      "             around, 50 bottles \n",
      "             of beer on the \n",
      "             wall.\n",
      "          \n",
      "50 bottles of \n",
      "             beer on the \n",
      "             wall. 50 bottles\n",
      "             of beer. Take one \n",
      "             down, pass it \n",
      "             around, 49 bottles \n",
      "             of beer on the \n",
      "             wall.\n",
      "          \n",
      "49 bottles of \n",
      "             beer on the \n",
      "             wall. 49 bottles\n",
      "             of beer. Take one \n",
      "             down, pass it \n",
      "             around, 48 bottles \n",
      "             of beer on the \n",
      "             wall.\n",
      "          \n",
      "48 bottles of \n",
      "             beer on the \n",
      "             wall. 48 bottles\n",
      "             of beer. Take one \n",
      "             down, pass it \n",
      "             around, 47 bottles \n",
      "             of beer on the \n",
      "             wall.\n",
      "          \n",
      "47 bottles of \n",
      "             beer on the \n",
      "             wall. 47 bottles\n",
      "             of beer. Take one \n",
      "             down, pass it \n",
      "             around, 46 bottles \n",
      "             of beer on the \n",
      "             wall.\n",
      "          \n",
      "46 bottles of \n",
      "             beer on the \n",
      "             wall. 46 bottles\n",
      "             of beer. Take one \n",
      "             down, pass it \n",
      "             around, 45 bottles \n",
      "             of beer on the \n",
      "             wall.\n",
      "          \n",
      "45 bottles of \n",
      "             beer on the \n",
      "             wall. 45 bottles\n",
      "             of beer. Take one \n",
      "             down, pass it \n",
      "             around, 44 bottles \n",
      "             of beer on the \n",
      "             wall.\n",
      "          \n",
      "44 bottles of \n",
      "             beer on the \n",
      "             wall. 44 bottles\n",
      "             of beer. Take one \n",
      "             down, pass it \n",
      "             around, 43 bottles \n",
      "             of beer on the \n",
      "             wall.\n",
      "          \n",
      "43 bottles of \n",
      "             beer on the \n",
      "             wall. 43 bottles\n",
      "             of beer. Take one \n",
      "             down, pass it \n",
      "             around, 42 bottles \n",
      "             of beer on the \n",
      "             wall.\n",
      "          \n",
      "42 bottles of \n",
      "             beer on the \n",
      "             wall. 42 bottles\n",
      "             of beer. Take one \n",
      "             down, pass it \n",
      "             around, 41 bottles \n",
      "             of beer on the \n",
      "             wall.\n",
      "          \n",
      "41 bottles of \n",
      "             beer on the \n",
      "             wall. 41 bottles\n",
      "             of beer. Take one \n",
      "             down, pass it \n",
      "             around, 40 bottles \n",
      "             of beer on the \n",
      "             wall.\n",
      "          \n",
      "40 bottles of \n",
      "             beer on the \n",
      "             wall. 40 bottles\n",
      "             of beer. Take one \n",
      "             down, pass it \n",
      "             around, 39 bottles \n",
      "             of beer on the \n",
      "             wall.\n",
      "          \n",
      "39 bottles of \n",
      "             beer on the \n",
      "             wall. 39 bottles\n",
      "             of beer. Take one \n",
      "             down, pass it \n",
      "             around, 38 bottles \n",
      "             of beer on the \n",
      "             wall.\n",
      "          \n",
      "38 bottles of \n",
      "             beer on the \n",
      "             wall. 38 bottles\n",
      "             of beer. Take one \n",
      "             down, pass it \n",
      "             around, 37 bottles \n",
      "             of beer on the \n",
      "             wall.\n",
      "          \n",
      "37 bottles of \n",
      "             beer on the \n",
      "             wall. 37 bottles\n",
      "             of beer. Take one \n",
      "             down, pass it \n",
      "             around, 36 bottles \n",
      "             of beer on the \n",
      "             wall.\n",
      "          \n",
      "36 bottles of \n",
      "             beer on the \n",
      "             wall. 36 bottles\n",
      "             of beer. Take one \n",
      "             down, pass it \n",
      "             around, 35 bottles \n",
      "             of beer on the \n",
      "             wall.\n",
      "          \n",
      "35 bottles of \n",
      "             beer on the \n",
      "             wall. 35 bottles\n",
      "             of beer. Take one \n",
      "             down, pass it \n",
      "             around, 34 bottles \n",
      "             of beer on the \n",
      "             wall.\n",
      "          \n",
      "34 bottles of \n",
      "             beer on the \n",
      "             wall. 34 bottles\n",
      "             of beer. Take one \n",
      "             down, pass it \n",
      "             around, 33 bottles \n",
      "             of beer on the \n",
      "             wall.\n",
      "          \n",
      "33 bottles of \n",
      "             beer on the \n",
      "             wall. 33 bottles\n",
      "             of beer. Take one \n",
      "             down, pass it \n",
      "             around, 32 bottles \n",
      "             of beer on the \n",
      "             wall.\n",
      "          \n",
      "32 bottles of \n",
      "             beer on the \n",
      "             wall. 32 bottles\n",
      "             of beer. Take one \n",
      "             down, pass it \n",
      "             around, 31 bottles \n",
      "             of beer on the \n",
      "             wall.\n",
      "          \n",
      "31 bottles of \n",
      "             beer on the \n",
      "             wall. 31 bottles\n",
      "             of beer. Take one \n",
      "             down, pass it \n",
      "             around, 30 bottles \n",
      "             of beer on the \n",
      "             wall.\n",
      "          \n",
      "30 bottles of \n",
      "             beer on the \n",
      "             wall. 30 bottles\n",
      "             of beer. Take one \n",
      "             down, pass it \n",
      "             around, 29 bottles \n",
      "             of beer on the \n",
      "             wall.\n",
      "          \n",
      "29 bottles of \n",
      "             beer on the \n",
      "             wall. 29 bottles\n",
      "             of beer. Take one \n",
      "             down, pass it \n",
      "             around, 28 bottles \n",
      "             of beer on the \n",
      "             wall.\n",
      "          \n",
      "28 bottles of \n",
      "             beer on the \n",
      "             wall. 28 bottles\n",
      "             of beer. Take one \n",
      "             down, pass it \n",
      "             around, 27 bottles \n",
      "             of beer on the \n",
      "             wall.\n",
      "          \n",
      "27 bottles of \n",
      "             beer on the \n",
      "             wall. 27 bottles\n",
      "             of beer. Take one \n",
      "             down, pass it \n",
      "             around, 26 bottles \n",
      "             of beer on the \n",
      "             wall.\n",
      "          \n",
      "26 bottles of \n",
      "             beer on the \n",
      "             wall. 26 bottles\n",
      "             of beer. Take one \n",
      "             down, pass it \n",
      "             around, 25 bottles \n",
      "             of beer on the \n",
      "             wall.\n",
      "          \n",
      "25 bottles of \n",
      "             beer on the \n",
      "             wall. 25 bottles\n",
      "             of beer. Take one \n",
      "             down, pass it \n",
      "             around, 24 bottles \n",
      "             of beer on the \n",
      "             wall.\n",
      "          \n",
      "24 bottles of \n",
      "             beer on the \n",
      "             wall. 24 bottles\n",
      "             of beer. Take one \n",
      "             down, pass it \n",
      "             around, 23 bottles \n",
      "             of beer on the \n",
      "             wall.\n",
      "          \n",
      "23 bottles of \n",
      "             beer on the \n",
      "             wall. 23 bottles\n",
      "             of beer. Take one \n",
      "             down, pass it \n",
      "             around, 22 bottles \n",
      "             of beer on the \n",
      "             wall.\n",
      "          \n",
      "22 bottles of \n",
      "             beer on the \n",
      "             wall. 22 bottles\n",
      "             of beer. Take one \n",
      "             down, pass it \n",
      "             around, 21 bottles \n",
      "             of beer on the \n",
      "             wall.\n",
      "          \n",
      "21 bottles of \n",
      "             beer on the \n",
      "             wall. 21 bottles\n",
      "             of beer. Take one \n",
      "             down, pass it \n",
      "             around, 20 bottles \n",
      "             of beer on the \n",
      "             wall.\n",
      "          \n",
      "20 bottles of \n",
      "             beer on the \n",
      "             wall. 20 bottles\n",
      "             of beer. Take one \n",
      "             down, pass it \n",
      "             around, 19 bottles \n",
      "             of beer on the \n",
      "             wall.\n",
      "          \n",
      "19 bottles of \n",
      "             beer on the \n",
      "             wall. 19 bottles\n",
      "             of beer. Take one \n",
      "             down, pass it \n",
      "             around, 18 bottles \n",
      "             of beer on the \n",
      "             wall.\n",
      "          \n",
      "18 bottles of \n",
      "             beer on the \n",
      "             wall. 18 bottles\n",
      "             of beer. Take one \n",
      "             down, pass it \n",
      "             around, 17 bottles \n",
      "             of beer on the \n",
      "             wall.\n",
      "          \n",
      "17 bottles of \n",
      "             beer on the \n",
      "             wall. 17 bottles\n",
      "             of beer. Take one \n",
      "             down, pass it \n",
      "             around, 16 bottles \n",
      "             of beer on the \n",
      "             wall.\n",
      "          \n",
      "16 bottles of \n",
      "             beer on the \n",
      "             wall. 16 bottles\n",
      "             of beer. Take one \n",
      "             down, pass it \n",
      "             around, 15 bottles \n",
      "             of beer on the \n",
      "             wall.\n",
      "          \n",
      "15 bottles of \n",
      "             beer on the \n",
      "             wall. 15 bottles\n",
      "             of beer. Take one \n",
      "             down, pass it \n",
      "             around, 14 bottles \n",
      "             of beer on the \n",
      "             wall.\n",
      "          \n",
      "14 bottles of \n",
      "             beer on the \n",
      "             wall. 14 bottles\n",
      "             of beer. Take one \n",
      "             down, pass it \n",
      "             around, 13 bottles \n",
      "             of beer on the \n",
      "             wall.\n",
      "          \n",
      "13 bottles of \n",
      "             beer on the \n",
      "             wall. 13 bottles\n",
      "             of beer. Take one \n",
      "             down, pass it \n",
      "             around, 12 bottles \n",
      "             of beer on the \n",
      "             wall.\n",
      "          \n",
      "12 bottles of \n",
      "             beer on the \n",
      "             wall. 12 bottles\n",
      "             of beer. Take one \n",
      "             down, pass it \n",
      "             around, 11 bottles \n",
      "             of beer on the \n",
      "             wall.\n",
      "          \n",
      "11 bottles of \n",
      "             beer on the \n",
      "             wall. 11 bottles\n",
      "             of beer. Take one \n",
      "             down, pass it \n",
      "             around, 10 bottles \n",
      "             of beer on the \n",
      "             wall.\n",
      "          \n",
      "10 bottles of \n",
      "             beer on the \n",
      "             wall. 10 bottles\n",
      "             of beer. Take one \n",
      "             down, pass it \n",
      "             around, 9 bottles \n",
      "             of beer on the \n",
      "             wall.\n",
      "          \n",
      "9 bottles of \n",
      "             beer on the \n",
      "             wall. 9 bottles\n",
      "             of beer. Take one \n",
      "             down, pass it \n",
      "             around, 8 bottles \n",
      "             of beer on the \n",
      "             wall.\n",
      "          \n",
      "8 bottles of \n",
      "             beer on the \n",
      "             wall. 8 bottles\n",
      "             of beer. Take one \n",
      "             down, pass it \n",
      "             around, 7 bottles \n",
      "             of beer on the \n",
      "             wall.\n",
      "          \n",
      "7 bottles of \n",
      "             beer on the \n",
      "             wall. 7 bottles\n",
      "             of beer. Take one \n",
      "             down, pass it \n",
      "             around, 6 bottles \n",
      "             of beer on the \n",
      "             wall.\n",
      "          \n",
      "6 bottles of \n",
      "             beer on the \n",
      "             wall. 6 bottles\n",
      "             of beer. Take one \n",
      "             down, pass it \n",
      "             around, 5 bottles \n",
      "             of beer on the \n",
      "             wall.\n",
      "          \n",
      "5 bottles of \n",
      "             beer on the \n",
      "             wall. 5 bottles\n",
      "             of beer. Take one \n",
      "             down, pass it \n",
      "             around, 4 bottles \n",
      "             of beer on the \n",
      "             wall.\n",
      "          \n",
      "4 bottles of \n",
      "             beer on the \n",
      "             wall. 4 bottles\n",
      "             of beer. Take one \n",
      "             down, pass it \n",
      "             around, 3 bottles \n",
      "             of beer on the \n",
      "             wall.\n",
      "          \n",
      "3 bottles of \n",
      "             beer on the \n",
      "             wall. 3 bottles\n",
      "             of beer. Take one \n",
      "             down, pass it \n",
      "             around, 2 bottles \n",
      "             of beer on the \n",
      "             wall.\n",
      "          \n",
      "2 bottles of \n",
      "             beer on the \n",
      "             wall. 2 bottles\n",
      "             of beer. Take one \n",
      "             down, pass it \n",
      "             around, 1 bottles \n",
      "             of beer on the \n",
      "             wall.\n",
      "          \n",
      "1 bottles of \n",
      "             beer on the \n",
      "             wall. 1 bottles\n",
      "             of beer. Take one \n",
      "             down, pass it \n",
      "             around, 0 bottles \n",
      "             of beer on the \n",
      "             wall.\n",
      "          \n",
      "No more \n",
      "                 bottles \n",
      "                 of beer \n",
      "                 on the wall. \n",
      "                 No more \n",
      "                 bottles of \n",
      "                 beer.\n"
     ]
    }
   ],
   "source": [
    "def bottles_of_beer(bob):\n",
    "    \"\"\" Prints 99 Bottle \n",
    "        of Beer on the\n",
    "        Wall lyrics.\n",
    "        :param bob: Must\n",
    "        be a positive \n",
    "        integer.\n",
    "    \"\"\"\n",
    "    if bob < 1:\n",
    "        print(\"\"\"No more \n",
    "                 bottles \n",
    "                 of beer \n",
    "                 on the wall. \n",
    "                 No more \n",
    "                 bottles of \n",
    "                 beer.\"\"\")\n",
    "        return\n",
    "    tmp = bob\n",
    "    bob -= 1\n",
    "    print(\"\"\"{} bottles of \n",
    "             beer on the \n",
    "             wall. {} bottles\n",
    "             of beer. Take one \n",
    "             down, pass it \n",
    "             around, {} bottles \n",
    "             of beer on the \n",
    "             wall.\n",
    "          \"\"\".format(tmp, \n",
    "                     tmp, \n",
    "                     bob))\n",
    "    bottles_of_beer(bob)\n",
    "\n",
    "\n",
    "bottles_of_beer(99)"
   ]
  },
  {
   "cell_type": "code",
   "execution_count": 24,
   "metadata": {},
   "outputs": [
    {
     "ename": "SyntaxError",
     "evalue": "'return' outside function (<ipython-input-24-7618e3668803>, line 9)",
     "output_type": "error",
     "traceback": [
      "\u001b[1;36m  File \u001b[1;32m\"<ipython-input-24-7618e3668803>\"\u001b[1;36m, line \u001b[1;32m9\u001b[0m\n\u001b[1;33m    return\u001b[0m\n\u001b[1;37m    ^\u001b[0m\n\u001b[1;31mSyntaxError\u001b[0m\u001b[1;31m:\u001b[0m 'return' outside function\n"
     ]
    }
   ],
   "source": [
    "if bob < 1:\n",
    "    print(\"\"\"No more\n",
    "           bottles\n",
    "           of beer\n",
    "           on the wall.\n",
    "           No more\n",
    "           bottles of\n",
    "           beer.\"\"\")\n",
    "    return\n"
   ]
  },
  {
   "cell_type": "code",
   "execution_count": 25,
   "metadata": {},
   "outputs": [
    {
     "ename": "NameError",
     "evalue": "name 'bob' is not defined",
     "output_type": "error",
     "traceback": [
      "\u001b[1;31m---------------------------------------------------------------------------\u001b[0m",
      "\u001b[1;31mNameError\u001b[0m                                 Traceback (most recent call last)",
      "\u001b[1;32m<ipython-input-25-695a91349fd2>\u001b[0m in \u001b[0;36m<module>\u001b[1;34m\u001b[0m\n\u001b[0;32m      1\u001b[0m \u001b[1;33m\u001b[0m\u001b[0m\n\u001b[1;32m----> 2\u001b[1;33m \u001b[0mbottles_of_beer\u001b[0m\u001b[1;33m(\u001b[0m\u001b[0mbob\u001b[0m\u001b[1;33m)\u001b[0m\u001b[1;33m\u001b[0m\u001b[1;33m\u001b[0m\u001b[0m\n\u001b[0m",
      "\u001b[1;31mNameError\u001b[0m: name 'bob' is not defined"
     ]
    }
   ],
   "source": [
    "\n",
    "bottles_of_beer(bob)\n"
   ]
  },
  {
   "cell_type": "code",
   "execution_count": null,
   "metadata": {},
   "outputs": [],
   "source": []
  }
 ],
 "metadata": {
  "kernelspec": {
   "display_name": "Python 3",
   "language": "python",
   "name": "python3"
  }
 },
 "nbformat": 4,
 "nbformat_minor": 2
}
